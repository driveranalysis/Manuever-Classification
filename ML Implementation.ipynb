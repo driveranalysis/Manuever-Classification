{
 "cells": [
  {
   "cell_type": "code",
   "execution_count": 63,
   "metadata": {},
   "outputs": [],
   "source": [
    "import pandas as pd\n",
    "import numpy as np\n",
    "from sklearn import preprocessing, neighbors, svm\n",
    "from sklearn.model_selection import train_test_split, GridSearchCV \n",
    "from sklearn.metrics import classification_report, confusion_matrix \n",
    "from sklearn.ensemble import RandomForestClassifier"
   ]
  },
  {
   "cell_type": "markdown",
   "metadata": {},
   "source": [
    "### Reading the Excel Files"
   ]
  },
  {
   "cell_type": "code",
   "execution_count": 6,
   "metadata": {},
   "outputs": [],
   "source": [
    "df_1 = pd.read_excel(\"processed16.xlsx\", index = False) \n",
    "df_2 = pd.read_excel(\"processed17.xlsx\", index = False) \n",
    "df_3 = pd.read_excel(\"processed20.xlsx\", index = False) \n",
    "df_4 = pd.read_excel(\"processed21.xlsx\", index = False) "
   ]
  },
  {
   "cell_type": "markdown",
   "metadata": {},
   "source": [
    "### Removing Unnecessary Columns"
   ]
  },
  {
   "cell_type": "code",
   "execution_count": 7,
   "metadata": {},
   "outputs": [
    {
     "name": "stdout",
     "output_type": "stream",
     "text": [
      "       M0_x      M1_x      M2_x     MD0_x     MD1_x     MD2_x     SD0_x  \\\n",
      "0  1.394119  0.637284  0.463757  1.601774  0.381614  0.276994  1.245807   \n",
      "1  2.066465  1.730292  1.113678  2.666776  2.216044  0.914209  1.927013   \n",
      "2  1.161569  0.503600  0.306685  1.195601  0.385100  0.270009  1.206749   \n",
      "3  2.305346  1.733458  1.104182  2.799916  2.220912  1.056708  1.846857   \n",
      "4 -0.276192  1.014577  1.063574 -0.517206  0.962020  1.163994  1.269491   \n",
      "\n",
      "      SD1_x     SD2_x      T1_x      T2_x               maneuver  \n",
      "0  1.245486  1.171420 -0.085753  0.083711  Aggressive right turn  \n",
      "1  1.649476  1.645949  0.674640 -0.057853  Aggressive right turn  \n",
      "2  1.310202  1.228890 -0.132898 -0.075022  Aggressive right turn  \n",
      "3  1.655223  1.728814  0.503859 -0.066962  Aggressive right turn  \n",
      "4  2.041803  1.803892 -8.346903 -4.205663  Aggressive right turn  \n",
      "       M0_x      M1_x      M2_x     MD0_x     MD1_x     MD2_x     SD0_x  \\\n",
      "0  1.702217  0.279212  0.242504  1.662000  0.044323  0.104625  1.495990   \n",
      "1 -0.370930  0.665644  0.062498 -0.416341 -0.075119 -0.230634  0.322371   \n",
      "2  2.119360  0.360171  0.355803  2.283863  0.177934  0.245703  2.142382   \n",
      "3 -0.091887  1.013737  0.209485 -0.072010  0.362172  0.039926  0.528329   \n",
      "4  2.346145  1.196259  0.780638  2.430675  1.049385  0.444000  0.809933   \n",
      "\n",
      "      SD1_x     SD2_x       T1_x       T2_x                      maneuver  \n",
      "0  1.945643  1.603390  -0.671943   0.099333  Aggressive right lane change  \n",
      "1  1.498160  1.626073  -4.589057   3.083584  Aggressive right lane change  \n",
      "2  2.558186  2.116444  -0.660113   0.163678  Aggressive right lane change  \n",
      "3  1.909154  2.118031 -23.064973  15.225496  Aggressive right lane change  \n",
      "4  1.374235  1.300553   0.019766  -0.021570           Aggressive breaking  \n",
      "       M0_x      M1_x      M2_x     MD0_x     MD1_x     MD2_x     SD0_x  \\\n",
      "0  2.743544  2.432753  1.675432  2.688286  2.312999  1.300518  2.357875   \n",
      "1 -0.029268  1.343411  1.606680 -0.000245  0.745571  1.425584  1.109191   \n",
      "2 -0.738157 -0.727624 -0.609649 -0.866702 -0.853610 -0.767122  1.374031   \n",
      "3  0.889866  0.067795 -0.195555  1.175003 -0.030161 -0.377261  2.306221   \n",
      "4  1.593831  0.765764  0.414803  2.136643  0.900805 -0.026753  2.362848   \n",
      "\n",
      "      SD1_x     SD2_x       T1_x       T2_x               maneuver  \n",
      "0  1.939925  1.950794   0.775660   0.064020  Aggressive right turn  \n",
      "1  2.297933  2.063978 -93.738102 -72.708874  Aggressive right turn  \n",
      "2  1.615119  1.688809   0.971463   0.506257  Aggressive right turn  \n",
      "3  2.054093  2.012982  -0.829515  -0.805843  Aggressive right turn  \n",
      "4  2.117672  1.855770  -0.039090  -0.180143  Aggressive right turn  \n",
      "       M0_x      M1_x      M2_x     MD0_x     MD1_x     MD2_x     SD0_x  \\\n",
      "0 -2.746565 -0.455249  0.029607 -2.961699 -0.404679  0.547774  2.720544   \n",
      "1 -0.127803 -1.437184 -0.346100 -0.016638 -0.580175 -0.163595  0.652698   \n",
      "2  1.727824  0.675650  0.668161  1.473433 -0.084685  0.351148  2.250829   \n",
      "3 -3.029967 -0.651072 -0.559556 -3.188686 -0.754641 -0.439808  1.521755   \n",
      "4 -2.670170 -0.771130 -0.417988 -2.998509 -0.387312 -0.168398  4.247902   \n",
      "\n",
      "      SD1_x     SD2_x       T1_x       T2_x                     maneuver  \n",
      "0  3.354881  2.891286  -0.668496  -0.363843  Aggressive left lane change  \n",
      "1  2.367782  2.764583  21.490637 -14.366404  Aggressive left lane change  \n",
      "2  1.958371  1.627408  -0.217918   0.377864  Aggressive left lane change  \n",
      "3  3.060983  2.526202  -0.570245   0.124267  Aggressive left lane change  \n",
      "4  3.965300  3.324000  -0.422412  -0.107969  Aggressive left lane change  \n"
     ]
    }
   ],
   "source": [
    "del df_1[\"No\"]\n",
    "del df_2[\"No\"]\n",
    "del df_3[\"No\"]\n",
    "del df_4[\"No\"]\n",
    "\n",
    "print(df_1.head())\n",
    "print(df_2.head())\n",
    "print(df_3.head())\n",
    "print(df_4.head())"
   ]
  },
  {
   "cell_type": "markdown",
   "metadata": {},
   "source": [
    "### Removing the First Rows for Concatenation"
   ]
  },
  {
   "cell_type": "code",
   "execution_count": 8,
   "metadata": {},
   "outputs": [],
   "source": [
    "frames = [df_1, df_2, df_3, df_4]\n",
    "df_final = pd.concat(frames)"
   ]
  },
  {
   "cell_type": "code",
   "execution_count": 9,
   "metadata": {},
   "outputs": [],
   "source": [
    "pd.set_option('display.max_rows', 300) #Maxing out the columns for display\n",
    "df_final = df_final.reset_index(drop=True)"
   ]
  },
  {
   "cell_type": "markdown",
   "metadata": {},
   "source": [
    "### Final Dataframe for Analysis"
   ]
  },
  {
   "cell_type": "code",
   "execution_count": 10,
   "metadata": {},
   "outputs": [
    {
     "name": "stdout",
     "output_type": "stream",
     "text": [
      "         M0_x      M1_x      M2_x     MD0_x     MD1_x     MD2_x     SD0_x  \\\n",
      "0    1.394119  0.637284  0.463757  1.601774  0.381614  0.276994  1.245807   \n",
      "1    2.066465  1.730292  1.113678  2.666776  2.216044  0.914209  1.927013   \n",
      "2    1.161569  0.503600  0.306685  1.195601  0.385100  0.270009  1.206749   \n",
      "3    2.305346  1.733458  1.104182  2.799916  2.220912  1.056708  1.846857   \n",
      "4   -0.276192  1.014577  1.063574 -0.517206  0.962020  1.163994  1.269491   \n",
      "5    1.057980  0.603456  0.409548  0.980821  0.322531  0.240121  0.899796   \n",
      "6    2.963837  2.010909  1.390250  3.064371  1.941753  0.980821  0.985041   \n",
      "7    0.090732  1.527285  1.370850  0.146130  1.906460  1.349082  1.729395   \n",
      "8    1.682016  1.166846  0.876524  1.263351  0.734280  0.547395  1.686127   \n",
      "9    1.964294  1.821785  1.432662  2.084320  2.017066  1.192319  2.037052   \n",
      "10   1.537479  0.873637  0.616415  1.265599  0.525798  0.369131  1.497012   \n",
      "11   2.865773  2.195051  1.528945  2.974531  1.946673  0.903831  1.511951   \n",
      "12  -1.043276  0.872925  1.094443 -1.017752  0.881863  1.068468  1.573885   \n",
      "13   2.267274  1.038274  0.659010  2.472853  0.747407  0.478941  1.190750   \n",
      "14   1.798507  2.032891  1.291685  2.608159  2.604585  1.216755  2.107720   \n",
      "15  -1.260999  0.268754  0.934927 -1.473150 -0.176318  1.232180  1.693455   \n",
      "16   0.327520  0.487970  0.380236  0.284856  0.511719  0.412550  0.554396   \n",
      "17   2.859772  1.593646  1.278571  2.910371  1.392175  0.943511  0.725515   \n",
      "18   0.695965  1.777869  1.294419  0.893005  2.134470  1.184547  1.442237   \n",
      "19   1.864130  0.968628  0.736319  2.097593  0.644073  0.481004  1.608493   \n",
      "20   2.192761  2.028445  1.376672  2.909721  2.479091  0.939735  2.039897   \n",
      "21   1.162478  0.548670  0.344160  0.970257  0.350301  0.265311  1.225322   \n",
      "22   2.594254  1.878366  1.230531  2.959791  2.061470  0.905635  1.675575   \n",
      "23   0.553597  1.573925  1.436776  0.369854  1.964216  1.445952  1.391708   \n",
      "24   2.720296  1.541584  1.062351  3.534086  0.786335  0.473415  1.757675   \n",
      "25   0.794695  1.757495  1.292621  1.613847  2.400129  0.844032  2.116790   \n",
      "26  -1.498212 -0.641464 -0.578618 -1.709237 -0.177727 -0.165351  1.172865   \n",
      "27   1.838758  0.170273  0.185277  1.579144  0.150891  0.178537  1.190564   \n",
      "28   1.693454  0.729637  0.337951  1.370523  0.318434 -0.071543  2.217410   \n",
      "29  -2.677222 -0.491884 -0.405983 -3.889953 -0.096204 -0.136730  3.450074   \n",
      "30   0.162466 -1.257378 -0.273768  0.644114 -0.003272  0.362551  1.523759   \n",
      "31   0.483476  0.241793  0.064221  2.046309  0.087645 -0.215669  3.671594   \n",
      "32  -1.571592 -0.544058 -0.362668 -0.574770 -0.284088 -0.207541  2.202696   \n",
      "33   1.702217  0.279212  0.242504  1.662000  0.044323  0.104625  1.495990   \n",
      "34  -0.370930  0.665644  0.062498 -0.416341 -0.075119 -0.230634  0.322371   \n",
      "35   2.119360  0.360171  0.355803  2.283863  0.177934  0.245703  2.142382   \n",
      "36  -0.091887  1.013737  0.209485 -0.072010  0.362172  0.039926  0.528329   \n",
      "37   2.346145  1.196259  0.780638  2.430675  1.049385  0.444000  0.809933   \n",
      "38  -0.705891  0.820127  0.562209 -1.022044  1.344190  0.733329  1.623150   \n",
      "39  -1.439547 -1.072719  0.066902 -1.431006 -1.256235 -0.674335  0.428335   \n",
      "40   0.348097  0.987046  0.702782  0.852638  1.342127  0.549240  1.543792   \n",
      "41  -1.342515 -0.488839  0.220743 -1.417075 -1.121367 -0.040788  0.374506   \n",
      "42   2.208868  1.321406  0.856408  2.066083  1.189649  0.593458  1.155051   \n",
      "43  -1.458650  0.375109  0.394721 -1.884624  0.625981  0.310024  1.086355   \n",
      "44  -0.293980 -0.276827 -0.178374 -0.355038 -0.304487 -0.127275  0.676989   \n",
      "45   0.529943  0.117982 -0.006134  0.620550  0.304034  0.183562  0.441571   \n",
      "46  -0.365611 -0.206615 -0.148520 -0.306805 -0.140570 -0.090713  0.763871   \n",
      "47   0.104424 -0.132920 -0.104299  0.267636 -0.032237 -0.053425  0.564530   \n",
      "48   0.333349  0.220020  0.023525  0.375794  0.341066  0.248161  0.159682   \n",
      "49  -0.231770 -0.294209 -0.159085 -0.235320 -0.339412 -0.098680  0.874265   \n",
      "50   0.374786  0.071508 -0.071211  0.444692  0.207806  0.035859  0.342600   \n",
      "51  -0.327482 -0.616400 -0.468657 -0.195614 -0.699601 -0.466880  0.670733   \n",
      "52   0.302824 -0.012329 -0.307976  0.302923 -0.017031 -0.466880  0.910024   \n",
      "53   0.993257  0.648041  0.322866  0.928058  0.624700  0.198186  0.987618   \n",
      "54  -0.582832 -0.649815 -0.451299 -0.499074 -0.497673 -0.297825  0.746215   \n",
      "55   0.053250 -0.264791 -0.415460 -0.009885 -0.142563 -0.318644  0.500087   \n",
      "56  -0.312082 -0.492192 -0.360282 -0.257227 -0.397972 -0.277675  0.698725   \n",
      "57   0.074172 -0.118955 -0.303404  0.134738 -0.047464 -0.252694  0.510008   \n",
      "58  -0.063295 -0.018830 -0.003799 -0.015556 -0.001702  0.006826  0.648525   \n",
      "59   0.010005 -0.026645 -0.009218 -0.059775 -0.027820 -0.015556  0.673922   \n",
      "60   0.083209  0.046607  0.009973  0.152533  0.101653  0.026589  0.663760   \n",
      "61  -0.015158  0.043052  0.046027  0.050065  0.065178  0.059791  0.478487   \n",
      "62  -0.077918 -0.046227  0.003260 -0.103189 -0.035426  0.047952  0.597321   \n",
      "63   0.041953  0.086804  0.054405  0.034573  0.098238  0.026001  0.278025   \n",
      "64  -0.120146 -0.039097  0.017821 -0.086485 -0.044609  0.026001  0.304722   \n",
      "65   2.743544  2.432753  1.675432  2.688286  2.312999  1.300518  2.357875   \n",
      "66  -0.029268  1.343411  1.606680 -0.000245  0.745571  1.425584  1.109191   \n",
      "67  -0.738157 -0.727624 -0.609649 -0.866702 -0.853610 -0.767122  1.374031   \n",
      "68   0.889866  0.067795 -0.195555  1.175003 -0.030161 -0.377261  2.306221   \n",
      "69   1.593831  0.765764  0.414803  2.136643  0.900805 -0.026753  2.362848   \n",
      "70   2.811836  2.202834  1.447788  3.078089  2.406466  1.535925  2.023870   \n",
      "71   2.486662  2.143729  1.410748  2.534240  2.254100  0.883558  3.077698   \n",
      "72  -0.004628  1.241017  1.427610 -0.340044  0.691260  0.935675  1.259557   \n",
      "73   2.530027  1.475034  0.923218  2.537225  1.494167  0.822734  1.255302   \n",
      "74   0.225701  1.377864  1.058590  0.262058  1.816405  1.183194  2.617614   \n",
      "75   3.394064  2.192397  1.548657  3.389767  1.851874  1.027044  2.193509   \n",
      "76   0.520918  1.957491  1.635238  0.535644  1.601426  1.218641  1.686562   \n",
      "77  -2.114560 -1.057010 -0.799123 -1.286949 -0.456133 -0.399376  2.139024   \n",
      "78  -1.270008 -1.692284 -1.128010 -1.518647 -1.454859 -0.704019  1.559351   \n",
      "79   1.333819  0.031905 -0.683583  1.498761  0.296459 -0.512868  1.474971   \n",
      "80   0.730895 -0.174958 -0.244391  0.800429 -0.212469 -0.314231  1.170887   \n",
      "81  -0.154724  0.288085 -0.168214 -0.209739  0.309778 -0.209739  0.835890   \n",
      "82   3.075188  1.829485  1.288893  2.816273  1.454504  0.797522  1.638032   \n",
      "83  -0.248970  1.413109  1.136667 -0.244069  1.421058  0.794090  1.655004   \n",
      "84  -1.497073 -1.374260 -0.832951 -1.664020 -1.292850 -0.436944  1.836966   \n",
      "85   2.136923  0.319925 -0.203866  1.995507  0.183169 -0.286255  2.876974   \n",
      "86  -3.161863 -1.711847 -1.158550 -3.243601 -1.247111 -0.638475  0.962277   \n",
      "87  -0.284614 -1.723238 -1.236103 -0.240802 -2.367280 -0.991269  2.104126   \n",
      "88  -0.344421 -0.349098 -0.296420 -0.253690 -0.250789 -0.206718  1.589011   \n",
      "89   0.384396  0.019988 -0.104600  0.677790  0.324343 -0.129581  1.271699   \n",
      "90  -2.746565 -0.455249  0.029607 -2.961699 -0.404679  0.547774  2.720544   \n",
      "91  -0.127803 -1.437184 -0.346100 -0.016638 -0.580175 -0.163595  0.652698   \n",
      "92   1.727824  0.675650  0.668161  1.473433 -0.084685  0.351148  2.250829   \n",
      "93  -3.029967 -0.651072 -0.559556 -3.188686 -0.754641 -0.439808  1.521755   \n",
      "94  -2.670170 -0.771130 -0.417988 -2.998509 -0.387312 -0.168398  4.247902   \n",
      "95  -0.342376 -1.506273 -0.628212 -0.152262 -0.840143 -0.363204  1.639766   \n",
      "96  -0.299283 -0.242638 -0.201059 -0.301268 -0.282035 -0.262801  4.639665   \n",
      "97  -0.784287 -0.541785 -0.423188 -0.111046 -0.170206 -0.257664  4.490504   \n",
      "98   2.214155  2.123257  1.418657  2.410715  2.419126  1.245554  0.837168   \n",
      "99  -3.011715 -0.424651  0.400339 -3.367714  0.063719  1.033415  1.798771   \n",
      "100  1.160129  1.799525  1.194673  1.335145  1.848643  1.335145  1.090994   \n",
      "101 -1.026690  0.066719  0.857454 -1.000346 -0.574954  1.068237  0.368429   \n",
      "102  2.069760  1.670969  1.075610  2.000757  1.679065  1.108127  0.682884   \n",
      "103 -1.452463  0.308648  0.629825 -1.097756  0.974783  0.996539  1.741391   \n",
      "104  1.326353  1.954211  1.283141  1.393143  2.232419  1.327260  1.092728   \n",
      "105 -2.939002 -0.806324  0.323140 -3.177152 -0.346751  1.018803  1.447619   \n",
      "106  0.650641  0.397126  0.378656  0.427699  0.287578  0.287090  0.842669   \n",
      "107  1.359464  1.005053  0.717905  1.618109  0.643606  0.402437  1.621707   \n",
      "108  2.523644  1.329882  0.934367  2.553647  1.348956  0.429620  0.915883   \n",
      "109 -1.428106  0.547769  0.410552 -2.171814  1.548996  0.279986  1.687211   \n",
      "110  2.125056  1.304844  0.856275  1.975546  0.885224  0.452226  0.943228   \n",
      "111  0.518025  1.321540  1.040845  0.607483  1.248016  0.808471  1.084992   \n",
      "112  0.395033  0.502773  0.457028  0.395178  0.349482  0.377296  0.806578   \n",
      "113 -0.204001  0.095516  0.267182 -0.204307  0.146169  0.152836  0.634076   \n",
      "114  1.726719  0.845174  0.616879  1.927360  0.202060  0.183402  1.275196   \n",
      "115  0.459620  1.093170  0.716656  0.426306  0.805575  0.290742  0.823273   \n",
      "116  0.224371  0.261190  0.138198  0.095274  0.095274  0.005809  0.714117   \n",
      "117  0.069115  0.146743  0.196744  0.031862  0.079629  0.084335  1.146068   \n",
      "118  0.122396  0.095756  0.138627 -0.062903 -0.015520  0.058554  2.252530   \n",
      "119  0.952019  0.421051  0.132658  0.656365  0.297777 -0.034219  1.309119   \n",
      "120  0.953577  0.952798  0.598560  1.016355  0.893330  0.399395  1.032763   \n",
      "121 -0.026869  0.463354  0.626242  0.252421  0.725725  0.688699  1.881085   \n",
      "122  1.382394  0.770213  0.693765  1.160569  0.261729  0.361544  1.374983   \n",
      "123  0.950229  1.166311  0.830219  1.060864  1.078225  0.397300  1.196762   \n",
      "124 -0.372870  0.288679  0.653251 -0.182852  0.289754  0.445461  1.356823   \n",
      "\n",
      "        SD1_x     SD2_x        T1_x        T2_x                      maneuver  \n",
      "0    1.245486  1.171420   -0.085753    0.083711         Aggressive right turn  \n",
      "1    1.649476  1.645949    0.674640   -0.057853         Aggressive right turn  \n",
      "2    1.310202  1.228890   -0.132898   -0.075022         Aggressive right turn  \n",
      "3    1.655223  1.728814    0.503859   -0.066962         Aggressive right turn  \n",
      "4    2.041803  1.803892   -8.346903   -4.205663         Aggressive right turn  \n",
      "5    0.820412  0.833923    0.140771    0.020539          Aggressive left turn  \n",
      "6    1.340978  1.418681    0.356963    0.050250          Aggressive left turn  \n",
      "7    2.011234  1.733041   32.665745   11.660458          Aggressive left turn  \n",
      "8    1.372511  1.227618    0.375186    0.175907          Aggressive left turn  \n",
      "9    1.864332  1.661013    0.856296    0.321270          Aggressive left turn  \n",
      "10   1.294174  1.193187    0.136454    0.066322          Aggressive left turn  \n",
      "11   1.638938  1.656483    0.536497    0.073207          Aggressive left turn  \n",
      "12   2.493266  2.228584   -2.746900   -1.473704          Aggressive left turn  \n",
      "13   1.645872  1.559961   -0.084122   -0.043893         Aggressive right turn  \n",
      "14   1.719492  1.841361    1.260643   -0.106047         Aggressive right turn  \n",
      "15   2.445866  2.309736   -1.426255   -1.797998         Aggressive right turn  \n",
      "16   0.592286  0.637095    1.979790    0.503077          Aggressive left turn  \n",
      "17   1.425371  1.290183    0.114527    0.226738          Aggressive left turn  \n",
      "18   1.572390  1.488112    4.109072    0.470598          Aggressive left turn  \n",
      "19   1.565118  1.377707    0.039227    0.145753         Aggressive right turn  \n",
      "20   1.835231  1.825292    0.850129    0.033348         Aggressive right turn  \n",
      "21   1.186891  1.159381   -0.056034   -0.062830         Aggressive right turn  \n",
      "22   1.628103  1.671997    0.448097   -0.025109         Aggressive right turn  \n",
      "23   1.843934  1.670636    4.686181    2.099864         Aggressive right turn  \n",
      "24   1.756492  1.617451    0.133395    0.038188          Aggressive left turn  \n",
      "25   2.164208  1.910185    3.423072    0.456619          Aggressive left turn  \n",
      "26   1.236894  1.208466   -0.143694    0.302310  Aggressive right lane change  \n",
      "27   2.047951  1.690810   -0.814796    0.117081  Aggressive right lane change  \n",
      "28   2.048600  1.885455   -0.138286   -0.263025  Aggressive right lane change  \n",
      "29   3.626249  3.049645   -0.632541    0.087471  Aggressive right lane change  \n",
      "30   3.012960  3.097928  -16.478676   10.423444  Aggressive right lane change  \n",
      "31   2.672025  2.222194    0.000229   -0.601734  Aggressive right lane change  \n",
      "32   3.184613  2.660022   -0.307634   -0.000070  Aggressive right lane change  \n",
      "33   1.945643  1.603390   -0.671943    0.099333  Aggressive right lane change  \n",
      "34   1.498160  1.626073   -4.589057    3.083584  Aggressive right lane change  \n",
      "35   2.558186  2.116444   -0.660113    0.163678  Aggressive right lane change  \n",
      "36   1.909154  2.118031  -23.064973   15.225496  Aggressive right lane change  \n",
      "37   1.374235  1.300553    0.019766   -0.021570           Aggressive breaking  \n",
      "38   1.995195  1.711973   -3.323663   -0.065694           Aggressive breaking  \n",
      "39   1.237330  1.961543    0.490357   -1.629780           Aggressive breaking  \n",
      "40   1.563883  1.369921    4.671092    0.385683           Aggressive breaking  \n",
      "41   1.407831  1.699194   -0.259287   -1.211155           Aggressive breaking  \n",
      "42   1.493348  1.445731    0.196456   -0.033315           Aggressive breaking  \n",
      "43   2.154222  1.897061   -1.514323   -0.297497           Aggressive breaking  \n",
      "44   0.695810  0.672061    0.882139   -0.056469           Aggressive breaking  \n",
      "45   0.703426  0.728882   -0.554738   -0.489356           Aggressive breaking  \n",
      "46   0.797353  0.811892    0.130245    0.088427           Aggressive breaking  \n",
      "47   0.709711  0.741732   -3.501199   -0.456014           Aggressive breaking  \n",
      "48   0.426779  0.625143    0.313259   -1.096781           Aggressive breaking  \n",
      "49   0.931491  0.860711    1.538806   -0.479631           Aggressive breaking  \n",
      "50   0.727586  0.845735   -0.618406   -0.951607           Aggressive breaking  \n",
      "51   0.599070  0.563188    2.782128    0.537647       Aggressive acceleration  \n",
      "52   0.856149  0.837571   -1.081425   -3.008662       Aggressive acceleration  \n",
      "53   1.006575  1.016905    0.304880   -0.329705       Aggressive acceleration  \n",
      "54   0.755967  0.698669    1.229854    0.079484       Aggressive acceleration  \n",
      "55   0.708250  0.756683  -10.945213  -13.461010       Aggressive acceleration  \n",
      "56   0.730657  0.712306    2.154248    0.309097       Aggressive acceleration  \n",
      "57   0.638847  0.715576   -4.207561   -9.064131       Aggressive acceleration  \n",
      "58   0.706285  0.601254   -0.405023   -0.414934       Aggressive acceleration  \n",
      "59   0.659093  0.693577   -6.326079    2.562207       Aggressive acceleration  \n",
      "60   0.666557  0.660512    0.120245   -0.760681       Aggressive acceleration  \n",
      "61   0.395922  0.329681   -6.680360   -3.428911       Aggressive acceleration  \n",
      "62   0.538793  0.473161    0.194544   -1.299622       Aggressive acceleration  \n",
      "63   0.278367  0.242735    3.138182   -0.247743       Aggressive acceleration  \n",
      "64   0.301444  0.302677   -0.349182   -1.095798       Aggressive acceleration  \n",
      "65   1.939925  1.950794    0.775660    0.064020         Aggressive right turn  \n",
      "66   2.297933  2.063978  -93.738102  -72.708874         Aggressive right turn  \n",
      "67   1.615119  1.688809    0.971463    0.506257         Aggressive right turn  \n",
      "68   2.054093  2.012982   -0.829515   -0.805843         Aggressive right turn  \n",
      "69   2.117672  1.855770   -0.039090   -0.180143         Aggressive right turn  \n",
      "70   2.272925  2.294270    0.566829   -0.022158         Aggressive right turn  \n",
      "71   2.644214  2.487086    0.724182   -0.022204         Aggressive right turn  \n",
      "72   2.653602  2.490017 -537.279901 -389.088271         Aggressive right turn  \n",
      "73   1.785479  1.746754    0.166022   -0.071309         Aggressive right turn  \n",
      "74   2.347923  2.172866   11.209618    1.861048         Aggressive right turn  \n",
      "75   2.367125  2.379438    0.291901    0.076951         Aggressive right turn  \n",
      "76   2.423687  2.298665    6.515549    1.901897         Aggressive right turn  \n",
      "77   1.999088  1.760153   -0.000255    0.133998          Aggressive left turn  \n",
      "78   1.910208  1.861580    1.664997   -0.000425          Aggressive left turn  \n",
      "79   1.998127  2.277845   -0.952159   -1.585343          Aggressive left turn  \n",
      "80   1.431291  1.260629   -1.478751   -0.524365          Aggressive left turn  \n",
      "81   1.105721  1.261415   -4.723854    6.985402          Aggressive left turn  \n",
      "82   1.820566  1.776403    0.189836    0.067544          Aggressive left turn  \n",
      "83   2.339681  2.017345  -12.351650   -2.344792          Aggressive left turn  \n",
      "84   1.986642  1.874018    0.835930   -0.181233          Aggressive left turn  \n",
      "85   3.016986  2.846554   -0.700574   -0.585631          Aggressive left turn  \n",
      "86   1.651218  1.644100    0.082809    0.016432          Aggressive left turn  \n",
      "87   2.177221  1.929692   11.109295    0.919952          Aggressive left turn  \n",
      "88   1.233802  1.084847    1.027160    0.554741          Aggressive left turn  \n",
      "89   1.478069  1.289896   -0.896004   -0.920340          Aggressive left turn  \n",
      "90   3.354881  2.891286   -0.668496   -0.363843   Aggressive left lane change  \n",
      "91   2.367782  2.764583   21.490637  -14.366404   Aggressive left lane change  \n",
      "92   1.958371  1.627408   -0.217918    0.377864   Aggressive left lane change  \n",
      "93   3.060983  2.526202   -0.570245    0.124267   Aggressive left lane change  \n",
      "94   3.965300  3.324000   -0.422412   -0.107969   Aggressive left lane change  \n",
      "95   3.410598  3.372466    7.798942   -3.294363   Aggressive left lane change  \n",
      "96   3.424581  2.820278    0.621459    0.393941   Aggressive left lane change  \n",
      "97   4.549567  3.806772    0.381599    0.237148   Aggressive left lane change  \n",
      "98   1.232061  1.443886    0.918699    0.010511           Aggressive breaking  \n",
      "99   2.975942  2.827417   -0.735181   -0.675410           Aggressive breaking  \n",
      "100  1.170176  1.452664    2.102286   -0.012956           Aggressive breaking  \n",
      "101  1.365218  1.655657   -1.129970   -2.375519           Aggressive breaking  \n",
      "102  1.034758  1.230138    0.614650   -0.055614           Aggressive breaking  \n",
      "103  2.205513  1.972614   -1.425000   -0.875876           Aggressive breaking  \n",
      "104  1.373605  1.690767    1.946743   -0.044482           Aggressive breaking  \n",
      "105  2.494371  2.701639   -0.451294   -0.878553           Aggressive breaking  \n",
      "106  0.693137  0.624136    0.220722    0.525198           Aggressive breaking  \n",
      "107  1.334289  1.179619    0.478601    0.105638           Aggressive breaking  \n",
      "108  1.428988  1.337050    0.053938    0.056798           Aggressive breaking  \n",
      "109  2.401511  1.998680   -1.767126   -0.095315           Aggressive breaking  \n",
      "110  1.113851  1.118760    0.220336   -0.015089       Aggressive acceleration  \n",
      "111  1.294311  1.162056    4.102230    0.903870       Aggressive acceleration  \n",
      "112  0.847593  0.710164    1.545477    0.925338       Aggressive acceleration  \n",
      "113  0.782111  0.849328   -1.936426   -2.992702       Aggressive acceleration  \n",
      "114  1.269398  1.094579   -0.021064    0.092829       Aggressive acceleration  \n",
      "115  1.243344  1.151919    3.756840   -0.079134       Aggressive acceleration  \n",
      "116  0.701227  0.736366    1.331478   -0.469646       Aggressive acceleration  \n",
      "117  0.953297  0.876838    3.246347    4.322438       Aggressive acceleration  \n",
      "118  1.778420  1.507658    0.564682    1.833153       Aggressive acceleration  \n",
      "119  1.214512  1.102785   -0.115457   -0.466511       Aggressive acceleration  \n",
      "120  1.173215  1.180853    0.998367   -0.115268       Aggressive acceleration  \n",
      "121  1.588219  1.514351  -35.489617  -35.431646       Aggressive acceleration  \n",
      "122  1.158335  0.979679    0.114318    0.389043       Aggressive acceleration  \n",
      "123  1.300812  1.170440    1.454801    0.166311       Aggressive acceleration  \n",
      "124  1.436099  1.503287   -2.548415   -3.707437       Aggressive acceleration  \n"
     ]
    }
   ],
   "source": [
    "print(df_final)"
   ]
  },
  {
   "cell_type": "code",
   "execution_count": 11,
   "metadata": {},
   "outputs": [],
   "source": [
    "X = np.array(df_final.drop(['maneuver'], 1))\n",
    "y = np.array(df_final['maneuver'])"
   ]
  },
  {
   "cell_type": "code",
   "execution_count": 12,
   "metadata": {},
   "outputs": [
    {
     "name": "stdout",
     "output_type": "stream",
     "text": [
      "['Aggressive right turn' 'Aggressive right turn' 'Aggressive right turn'\n",
      " 'Aggressive right turn' 'Aggressive right turn' 'Aggressive left turn'\n",
      " 'Aggressive left turn' 'Aggressive left turn' 'Aggressive left turn'\n",
      " 'Aggressive left turn' 'Aggressive left turn' 'Aggressive left turn'\n",
      " 'Aggressive left turn' 'Aggressive right turn' 'Aggressive right turn'\n",
      " 'Aggressive right turn' 'Aggressive left turn' 'Aggressive left turn'\n",
      " 'Aggressive left turn' 'Aggressive right turn' 'Aggressive right turn'\n",
      " 'Aggressive right turn' 'Aggressive right turn' 'Aggressive right turn'\n",
      " 'Aggressive left turn' 'Aggressive left turn'\n",
      " 'Aggressive right lane change' 'Aggressive right lane change'\n",
      " 'Aggressive right lane change' 'Aggressive right lane change'\n",
      " 'Aggressive right lane change' 'Aggressive right lane change'\n",
      " 'Aggressive right lane change' 'Aggressive right lane change'\n",
      " 'Aggressive right lane change' 'Aggressive right lane change'\n",
      " 'Aggressive right lane change' 'Aggressive breaking'\n",
      " 'Aggressive breaking' 'Aggressive breaking' 'Aggressive breaking'\n",
      " 'Aggressive breaking' 'Aggressive breaking' 'Aggressive breaking'\n",
      " 'Aggressive breaking' 'Aggressive breaking' 'Aggressive breaking'\n",
      " 'Aggressive breaking' 'Aggressive breaking' 'Aggressive breaking'\n",
      " 'Aggressive breaking' 'Aggressive acceleration' 'Aggressive acceleration'\n",
      " 'Aggressive acceleration' 'Aggressive acceleration'\n",
      " 'Aggressive acceleration' 'Aggressive acceleration'\n",
      " 'Aggressive acceleration' 'Aggressive acceleration'\n",
      " 'Aggressive acceleration' 'Aggressive acceleration'\n",
      " 'Aggressive acceleration' 'Aggressive acceleration'\n",
      " 'Aggressive acceleration' 'Aggressive acceleration'\n",
      " 'Aggressive right turn' 'Aggressive right turn' 'Aggressive right turn'\n",
      " 'Aggressive right turn' 'Aggressive right turn' 'Aggressive right turn'\n",
      " 'Aggressive right turn' 'Aggressive right turn' 'Aggressive right turn'\n",
      " 'Aggressive right turn' 'Aggressive right turn' 'Aggressive right turn'\n",
      " 'Aggressive left turn' 'Aggressive left turn' 'Aggressive left turn'\n",
      " 'Aggressive left turn' 'Aggressive left turn' 'Aggressive left turn'\n",
      " 'Aggressive left turn' 'Aggressive left turn' 'Aggressive left turn'\n",
      " 'Aggressive left turn' 'Aggressive left turn' 'Aggressive left turn'\n",
      " 'Aggressive left turn' 'Aggressive left lane change'\n",
      " 'Aggressive left lane change' 'Aggressive left lane change'\n",
      " 'Aggressive left lane change' 'Aggressive left lane change'\n",
      " 'Aggressive left lane change' 'Aggressive left lane change'\n",
      " 'Aggressive left lane change' 'Aggressive breaking' 'Aggressive breaking'\n",
      " 'Aggressive breaking' 'Aggressive breaking' 'Aggressive breaking'\n",
      " 'Aggressive breaking' 'Aggressive breaking' 'Aggressive breaking'\n",
      " 'Aggressive breaking' 'Aggressive breaking' 'Aggressive breaking'\n",
      " 'Aggressive breaking' 'Aggressive acceleration' 'Aggressive acceleration'\n",
      " 'Aggressive acceleration' 'Aggressive acceleration'\n",
      " 'Aggressive acceleration' 'Aggressive acceleration'\n",
      " 'Aggressive acceleration' 'Aggressive acceleration'\n",
      " 'Aggressive acceleration' 'Aggressive acceleration'\n",
      " 'Aggressive acceleration' 'Aggressive acceleration'\n",
      " 'Aggressive acceleration' 'Aggressive acceleration'\n",
      " 'Aggressive acceleration']\n"
     ]
    }
   ],
   "source": [
    "print(y)"
   ]
  },
  {
   "cell_type": "markdown",
   "metadata": {},
   "source": [
    "## Exploratory Data Analysis"
   ]
  },
  {
   "cell_type": "code",
   "execution_count": 13,
   "metadata": {},
   "outputs": [
    {
     "data": {
      "text/plain": [
       "array([[<matplotlib.axes._subplots.AxesSubplot object at 0x00000096944CCE10>]],\n",
       "      dtype=object)"
      ]
     },
     "execution_count": 13,
     "metadata": {},
     "output_type": "execute_result"
    }
   ],
   "source": [
    "df_final.hist(column='M0_x', bins = 30)"
   ]
  },
  {
   "cell_type": "code",
   "execution_count": 14,
   "metadata": {},
   "outputs": [
    {
     "data": {
      "text/plain": [
       "array([[<matplotlib.axes._subplots.AxesSubplot object at 0x0000009694726978>]],\n",
       "      dtype=object)"
      ]
     },
     "execution_count": 14,
     "metadata": {},
     "output_type": "execute_result"
    },
    {
     "data": {
      "image/png": "[encoded data removed]",
      "text/plain": [
       "<Figure size 432x288 with 1 Axes>"
      ]
     },
     "metadata": {
      "needs_background": "light"
     },
     "output_type": "display_data"
    }
   ],
   "source": [
    "df_final.hist(column='M1_x', bins = 50)"
   ]
  },
  {
   "cell_type": "code",
   "execution_count": 15,
   "metadata": {},
   "outputs": [
    {
     "data": {
      "text/plain": [
       "array([[<matplotlib.axes._subplots.AxesSubplot object at 0x000000969480A860>]],\n",
       "      dtype=object)"
      ]
     },
     "execution_count": 15,
     "metadata": {},
     "output_type": "execute_result"
    },
    {
     "data": {
      "image/png": "[encoded data removed]",
      "text/plain": [
       "<Figure size 432x288 with 1 Axes>"
      ]
     },
     "metadata": {
      "needs_background": "light"
     },
     "output_type": "display_data"
    }
   ],
   "source": [
    "df_final.hist(column='M2_x', bins = 40)"
   ]
  },
  {
   "cell_type": "code",
   "execution_count": 16,
   "metadata": {},
   "outputs": [
    {
     "data": {
      "text/plain": [
       "array([[<matplotlib.axes._subplots.AxesSubplot object at 0x00000096948B9D68>]],\n",
       "      dtype=object)"
      ]
     },
     "execution_count": 16,
     "metadata": {},
     "output_type": "execute_result"
    },
    {
     "data": {
      "image/png": "[encoded data removed]",
      "text/plain": [
       "<Figure size 432x288 with 1 Axes>"
      ]
     },
     "metadata": {
      "needs_background": "light"
     },
     "output_type": "display_data"
    }
   ],
   "source": [
    "df_final.hist(column='MD0_x', bins = 50)"
   ]
  },
  {
   "cell_type": "code",
   "execution_count": 17,
   "metadata": {},
   "outputs": [
    {
     "data": {
      "text/plain": [
       "array([[<matplotlib.axes._subplots.AxesSubplot object at 0x000000969495F898>]],\n",
       "      dtype=object)"
      ]
     },
     "execution_count": 17,
     "metadata": {},
     "output_type": "execute_result"
    },
    {
     "data": {
      "image/png": "[encoded data removed]",
      "text/plain": [
       "<Figure size 432x288 with 1 Axes>"
      ]
     },
     "metadata": {
      "needs_background": "light"
     },
     "output_type": "display_data"
    }
   ],
   "source": [
    "df_final.hist(column='MD1_x', bins = 50)"
   ]
  },
  {
   "cell_type": "code",
   "execution_count": 18,
   "metadata": {},
   "outputs": [
    {
     "data": {
      "text/plain": [
       "array([[<matplotlib.axes._subplots.AxesSubplot object at 0x0000009694A4C198>]],\n",
       "      dtype=object)"
      ]
     },
     "execution_count": 18,
     "metadata": {},
     "output_type": "execute_result"
    },
    {
     "data": {
      "image/png": "[encoded data removed]",
      "text/plain": [
       "<Figure size 432x288 with 1 Axes>"
      ]
     },
     "metadata": {
      "needs_background": "light"
     },
     "output_type": "display_data"
    }
   ],
   "source": [
    "df_final.hist(column='MD2_x', bins = 50)"
   ]
  },
  {
   "cell_type": "code",
   "execution_count": 19,
   "metadata": {},
   "outputs": [
    {
     "data": {
      "text/plain": [
       "array([[<matplotlib.axes._subplots.AxesSubplot object at 0x0000009694B0CE48>]],\n",
       "      dtype=object)"
      ]
     },
     "execution_count": 19,
     "metadata": {},
     "output_type": "execute_result"
    },
    {
     "data": {
      "image/png": "[encoded data removed]",
      "text/plain": [
       "<Figure size 432x288 with 1 Axes>"
      ]
     },
     "metadata": {
      "needs_background": "light"
     },
     "output_type": "display_data"
    }
   ],
   "source": [
    "df_final.hist(column='SD0_x', bins = 50)"
   ]
  },
  {
   "cell_type": "code",
   "execution_count": 20,
   "metadata": {},
   "outputs": [
    {
     "data": {
      "text/plain": [
       "array([[<matplotlib.axes._subplots.AxesSubplot object at 0x0000009694BF22E8>]],\n",
       "      dtype=object)"
      ]
     },
     "execution_count": 20,
     "metadata": {},
     "output_type": "execute_result"
    },
    {
     "data": {
      "image/png": "[encoded data removed]",
      "text/plain": [
       "<Figure size 432x288 with 1 Axes>"
      ]
     },
     "metadata": {
      "needs_background": "light"
     },
     "output_type": "display_data"
    }
   ],
   "source": [
    "df_final.hist(column='SD1_x', bins = 50)"
   ]
  },
  {
   "cell_type": "code",
   "execution_count": 21,
   "metadata": {},
   "outputs": [
    {
     "data": {
      "text/plain": [
       "array([[<matplotlib.axes._subplots.AxesSubplot object at 0x0000009694CA75F8>]],\n",
       "      dtype=object)"
      ]
     },
     "execution_count": 21,
     "metadata": {},
     "output_type": "execute_result"
    },
    {
     "data": {
      "image/png": "[encoded data removed]",
      "text/plain": [
       "<Figure size 432x288 with 1 Axes>"
      ]
     },
     "metadata": {
      "needs_background": "light"
     },
     "output_type": "display_data"
    }
   ],
   "source": [
    "df_final.hist(column='SD2_x', bins = 50)"
   ]
  },
  {
   "cell_type": "code",
   "execution_count": 22,
   "metadata": {},
   "outputs": [
    {
     "data": {
      "text/plain": [
       "array([[<matplotlib.axes._subplots.AxesSubplot object at 0x0000009694D799E8>]],\n",
       "      dtype=object)"
      ]
     },
     "execution_count": 22,
     "metadata": {},
     "output_type": "execute_result"
    },
    {
     "data": {
      "image/png": "[encoded data removed]",
      "text/plain": [
       "<Figure size 432x288 with 1 Axes>"
      ]
     },
     "metadata": {
      "needs_background": "light"
     },
     "output_type": "display_data"
    }
   ],
   "source": [
    "df_final.hist(column='T1_x', bins = 10)"
   ]
  },
  {
   "cell_type": "code",
   "execution_count": 23,
   "metadata": {},
   "outputs": [
    {
     "data": {
      "text/plain": [
       "array([[<matplotlib.axes._subplots.AxesSubplot object at 0x0000009694DF0F60>]],\n",
       "      dtype=object)"
      ]
     },
     "execution_count": 23,
     "metadata": {},
     "output_type": "execute_result"
    },
    {
     "data": {
      "image/png": "[encoded data removed]",
      "text/plain": [
       "<Figure size 432x288 with 1 Axes>"
      ]
     },
     "metadata": {
      "needs_background": "light"
     },
     "output_type": "display_data"
    }
   ],
   "source": [
    "df_final.hist(column='T2_x', bins = 10)"
   ]
  },
  {
   "cell_type": "markdown",
   "metadata": {},
   "source": [
    "### Normalized Data"
   ]
  },
  {
   "cell_type": "code",
   "execution_count": 24,
   "metadata": {},
   "outputs": [],
   "source": [
    "temp_df = df_final.drop(['maneuver'], 1)\n",
    "#df_final.dtypes\n",
    "def normalize(df):\n",
    "    result = df.copy()\n",
    "    for feature_name in df.columns:\n",
    "        max_value = df[feature_name].max()\n",
    "        min_value = df[feature_name].min()\n",
    "        result[feature_name] = (df[feature_name] - min_value) / (max_value - min_value)\n",
    "    return result\n",
    "\n",
    "normalized_df = normalize(temp_df)"
   ]
  },
  {
   "cell_type": "code",
   "execution_count": 25,
   "metadata": {},
   "outputs": [
    {
     "data": {
      "text/plain": [
       "array([[<matplotlib.axes._subplots.AxesSubplot object at 0x0000009695BE21D0>]],\n",
       "      dtype=object)"
      ]
     },
     "execution_count": 25,
     "metadata": {},
     "output_type": "execute_result"
    },
    {
     "data": {
      "image/png": "[encoded data removed]",
      "text/plain": [
       "<Figure size 432x288 with 1 Axes>"
      ]
     },
     "metadata": {
      "needs_background": "light"
     },
     "output_type": "display_data"
    },
    {
     "data": {
      "image/png": "[encoded data removed]",
      "text/plain": [
       "<Figure size 432x288 with 1 Axes>"
      ]
     },
     "metadata": {
      "needs_background": "light"
     },
     "output_type": "display_data"
    },
    {
     "data": {
      "image/png": "[encoded data removed]",
      "text/plain": [
       "<Figure size 432x288 with 1 Axes>"
      ]
     },
     "metadata": {
      "needs_background": "light"
     },
     "output_type": "display_data"
    },
    {
     "data": {
      "image/png": "[encoded data removed]",
      "text/plain": [
       "<Figure size 432x288 with 1 Axes>"
      ]
     },
     "metadata": {
      "needs_background": "light"
     },
     "output_type": "display_data"
    },
    {
     "data": {
      "image/png": "[encoded data removed]",
      "text/plain": [
       "<Figure size 432x288 with 1 Axes>"
      ]
     },
     "metadata": {
      "needs_background": "light"
     },
     "output_type": "display_data"
    },
    {
     "data": {
      "image/png": "[encoded data removed]",
      "text/plain": [
       "<Figure size 432x288 with 1 Axes>"
      ]
     },
     "metadata": {
      "needs_background": "light"
     },
     "output_type": "display_data"
    },
    {
     "data": {
      "image/png": "[encoded data removed]",
      "text/plain": [
       "<Figure size 432x288 with 1 Axes>"
      ]
     },
     "metadata": {
      "needs_background": "light"
     },
     "output_type": "display_data"
    },
    {
     "data": {
      "image/png": "[encoded data removed]",
      "text/plain": [
       "<Figure size 432x288 with 1 Axes>"
      ]
     },
     "metadata": {
      "needs_background": "light"
     },
     "output_type": "display_data"
    },
    {
     "data": {
      "image/png": "[encoded data removed]",
      "text/plain": [
       "<Figure size 432x288 with 1 Axes>"
      ]
     },
     "metadata": {
      "needs_background": "light"
     },
     "output_type": "display_data"
    },
    {
     "data": {
      "image/png": "[encoded data removed]",
      "text/plain": [
       "<Figure size 432x288 with 1 Axes>"
      ]
     },
     "metadata": {
      "needs_background": "light"
     },
     "output_type": "display_data"
    },
    {
     "data": {
      "image/png": "[encoded data removed]",
      "text/plain": [
       "<Figure size 432x288 with 1 Axes>"
      ]
     },
     "metadata": {
      "needs_background": "light"
     },
     "output_type": "display_data"
    }
   ],
   "source": [
    "normalized_df.hist(column='M0_x', bins = 40)\n",
    "normalized_df.hist(column='M1_x', bins = 40)\n",
    "normalized_df.hist(column='M2_x', bins = 40)\n",
    "normalized_df.hist(column='MD0_x', bins = 40)\n",
    "normalized_df.hist(column='MD1_x', bins = 40)\n",
    "normalized_df.hist(column='MD2_x', bins = 40)\n",
    "normalized_df.hist(column='SD0_x', bins = 40)\n",
    "normalized_df.hist(column='SD1_x', bins = 40)\n",
    "normalized_df.hist(column='SD2_x', bins = 40)\n",
    "normalized_df.hist(column='T1_x', bins = 40)\n",
    "normalized_df.hist(column='T2_x', bins = 40)"
   ]
  },
  {
   "cell_type": "code",
   "execution_count": 26,
   "metadata": {},
   "outputs": [],
   "source": [
    "X = np.array(normalized_df)\n",
    "y = np.array(df_final['maneuver'])"
   ]
  },
  {
   "cell_type": "code",
   "execution_count": 44,
   "metadata": {},
   "outputs": [],
   "source": [
    "X_train, X_test, y_train, y_test = train_test_split(X, y, test_size=0.2)"
   ]
  },
  {
   "cell_type": "code",
   "execution_count": 45,
   "metadata": {},
   "outputs": [],
   "source": [
    "clf = svm.SVC(gamma = 'auto')"
   ]
  },
  {
   "cell_type": "code",
   "execution_count": 46,
   "metadata": {},
   "outputs": [],
   "source": [
    "clf_1 = svm.SVC(kernel='linear', C=0.01)"
   ]
  },
  {
   "cell_type": "code",
   "execution_count": 47,
   "metadata": {},
   "outputs": [
    {
     "name": "stdout",
     "output_type": "stream",
     "text": [
      "0.36\n"
     ]
    }
   ],
   "source": [
    "clf.fit(X_train, y_train)\n",
    "confidence = clf.score(X_test, y_test)\n",
    "print(confidence)"
   ]
  },
  {
   "cell_type": "code",
   "execution_count": 48,
   "metadata": {},
   "outputs": [
    {
     "name": "stdout",
     "output_type": "stream",
     "text": [
      "0.24\n"
     ]
    }
   ],
   "source": [
    "clf_1.fit(X_train, y_train)\n",
    "confidence_1 = clf_1.score(X_test, y_test)\n",
    "print(confidence_1)"
   ]
  },
  {
   "cell_type": "code",
   "execution_count": 49,
   "metadata": {},
   "outputs": [
    {
     "name": "stdout",
     "output_type": "stream",
     "text": [
      "['Aggressive right turn']\n"
     ]
    }
   ],
   "source": [
    "example_measures = np.array([[1.39,0.6,0.4,1.4,0.3,0.2,1.2,1.1,1.17,-0.08, 0.08]])\n",
    "example_measures = example_measures.reshape(len(example_measures), -1)\n",
    "prediction = clf.predict(example_measures)\n",
    "print(prediction)"
   ]
  },
  {
   "cell_type": "markdown",
   "metadata": {},
   "source": [
    "## SVM"
   ]
  },
  {
   "cell_type": "code",
   "execution_count": 50,
   "metadata": {},
   "outputs": [
    {
     "name": "stderr",
     "output_type": "stream",
     "text": [
      "C:\\Users\\DELL\\Anaconda3\\lib\\site-packages\\sklearn\\model_selection\\_split.py:2053: FutureWarning: You should specify a value for 'cv' instead of relying on the default value. The default value will change from 3 to 5 in version 0.22.\n",
      "  warnings.warn(CV_WARNING, FutureWarning)\n",
      "[Parallel(n_jobs=1)]: Using backend SequentialBackend with 1 concurrent workers.\n",
      "[Parallel(n_jobs=1)]: Done   1 out of   1 | elapsed:    0.0s remaining:    0.0s\n",
      "[Parallel(n_jobs=1)]: Done   2 out of   2 | elapsed:    0.0s remaining:    0.0s\n"
     ]
    },
    {
     "name": "stdout",
     "output_type": "stream",
     "text": [
      "Fitting 3 folds for each of 50 candidates, totalling 150 fits\n",
      "[CV] C=0.1, gamma=1, kernel=rbf ......................................\n",
      "[CV]  C=0.1, gamma=1, kernel=rbf, score=0.22857142857142856, total=   0.0s\n",
      "[CV] C=0.1, gamma=1, kernel=rbf ......................................\n",
      "[CV]  C=0.1, gamma=1, kernel=rbf, score=0.2647058823529412, total=   0.0s\n",
      "[CV] C=0.1, gamma=1, kernel=rbf ......................................\n",
      "[CV]  C=0.1, gamma=1, kernel=rbf, score=0.22580645161290322, total=   0.0s\n",
      "[CV] C=0.1, gamma=1, kernel=linear ...................................\n",
      "[CV]  C=0.1, gamma=1, kernel=linear, score=0.22857142857142856, total=   0.0s\n",
      "[CV] C=0.1, gamma=1, kernel=linear ...................................\n",
      "[CV]  C=0.1, gamma=1, kernel=linear, score=0.20588235294117646, total=   0.0s\n",
      "[CV] C=0.1, gamma=1, kernel=linear ...................................\n",
      "[CV]  C=0.1, gamma=1, kernel=linear, score=0.3225806451612903, total=   0.0s\n",
      "[CV] C=0.1, gamma=0.1, kernel=rbf ....................................\n",
      "[CV]  C=0.1, gamma=0.1, kernel=rbf, score=0.22857142857142856, total=   0.0s\n",
      "[CV] C=0.1, gamma=0.1, kernel=rbf ....................................\n",
      "[CV]  C=0.1, gamma=0.1, kernel=rbf, score=0.23529411764705882, total=   0.0s\n",
      "[CV] C=0.1, gamma=0.1, kernel=rbf ....................................\n",
      "[CV]  C=0.1, gamma=0.1, kernel=rbf, score=0.22580645161290322, total=   0.0s\n",
      "[CV] C=0.1, gamma=0.1, kernel=linear .................................\n",
      "[CV]  C=0.1, gamma=0.1, kernel=linear, score=0.22857142857142856, total=   0.0s\n",
      "[CV] C=0.1, gamma=0.1, kernel=linear .................................\n",
      "[CV]  C=0.1, gamma=0.1, kernel=linear, score=0.20588235294117646, total=   0.0s\n",
      "[CV] C=0.1, gamma=0.1, kernel=linear .................................\n",
      "[CV]  C=0.1, gamma=0.1, kernel=linear, score=0.3225806451612903, total=   0.0s\n",
      "[CV] C=0.1, gamma=0.01, kernel=rbf ...................................\n",
      "[CV]  C=0.1, gamma=0.01, kernel=rbf, score=0.22857142857142856, total=   0.0s\n",
      "[CV] C=0.1, gamma=0.01, kernel=rbf ...................................\n",
      "[CV]  C=0.1, gamma=0.01, kernel=rbf, score=0.20588235294117646, total=   0.0s\n",
      "[CV] C=0.1, gamma=0.01, kernel=rbf ...................................\n",
      "[CV]  C=0.1, gamma=0.01, kernel=rbf, score=0.22580645161290322, total=   0.0s\n",
      "[CV] C=0.1, gamma=0.01, kernel=linear ................................\n",
      "[CV]  C=0.1, gamma=0.01, kernel=linear, score=0.22857142857142856, total=   0.0s\n",
      "[CV] C=0.1, gamma=0.01, kernel=linear ................................\n",
      "[CV]  C=0.1, gamma=0.01, kernel=linear, score=0.20588235294117646, total=   0.0s\n",
      "[CV] C=0.1, gamma=0.01, kernel=linear ................................\n",
      "[CV]  C=0.1, gamma=0.01, kernel=linear, score=0.3225806451612903, total=   0.0s\n",
      "[CV] C=0.1, gamma=0.001, kernel=rbf ..................................\n",
      "[CV]  C=0.1, gamma=0.001, kernel=rbf, score=0.22857142857142856, total=   0.0s\n",
      "[CV] C=0.1, gamma=0.001, kernel=rbf ..................................\n",
      "[CV]  C=0.1, gamma=0.001, kernel=rbf, score=0.20588235294117646, total=   0.0s\n",
      "[CV] C=0.1, gamma=0.001, kernel=rbf ..................................\n",
      "[CV]  C=0.1, gamma=0.001, kernel=rbf, score=0.22580645161290322, total=   0.0s\n",
      "[CV] C=0.1, gamma=0.001, kernel=linear ...............................\n",
      "[CV]  C=0.1, gamma=0.001, kernel=linear, score=0.22857142857142856, total=   0.0s\n",
      "[CV] C=0.1, gamma=0.001, kernel=linear ...............................\n",
      "[CV]  C=0.1, gamma=0.001, kernel=linear, score=0.20588235294117646, total=   0.0s\n",
      "[CV] C=0.1, gamma=0.001, kernel=linear ...............................\n",
      "[CV]  C=0.1, gamma=0.001, kernel=linear, score=0.3225806451612903, total=   0.0s\n",
      "[CV] C=0.1, gamma=0.0001, kernel=rbf .................................\n",
      "[CV]  C=0.1, gamma=0.0001, kernel=rbf, score=0.22857142857142856, total=   0.0s\n",
      "[CV] C=0.1, gamma=0.0001, kernel=rbf .................................\n",
      "[CV]  C=0.1, gamma=0.0001, kernel=rbf, score=0.20588235294117646, total=   0.0s\n",
      "[CV] C=0.1, gamma=0.0001, kernel=rbf .................................\n",
      "[CV]  C=0.1, gamma=0.0001, kernel=rbf, score=0.22580645161290322, total=   0.0s\n",
      "[CV] C=0.1, gamma=0.0001, kernel=linear ..............................\n",
      "[CV]  C=0.1, gamma=0.0001, kernel=linear, score=0.22857142857142856, total=   0.0s\n",
      "[CV] C=0.1, gamma=0.0001, kernel=linear ..............................\n",
      "[CV]  C=0.1, gamma=0.0001, kernel=linear, score=0.20588235294117646, total=   0.0s\n",
      "[CV] C=0.1, gamma=0.0001, kernel=linear ..............................\n",
      "[CV]  C=0.1, gamma=0.0001, kernel=linear, score=0.3225806451612903, total=   0.0s\n",
      "[CV] C=1, gamma=1, kernel=rbf ........................................\n",
      "[CV] .............. C=1, gamma=1, kernel=rbf, score=0.4, total=   0.0s\n",
      "[CV] C=1, gamma=1, kernel=rbf ........................................\n",
      "[CV]  C=1, gamma=1, kernel=rbf, score=0.38235294117647056, total=   0.0s\n",
      "[CV] C=1, gamma=1, kernel=rbf ........................................\n",
      "[CV]  C=1, gamma=1, kernel=rbf, score=0.41935483870967744, total=   0.0s\n",
      "[CV] C=1, gamma=1, kernel=linear .....................................\n",
      "[CV]  C=1, gamma=1, kernel=linear, score=0.34285714285714286, total=   0.0s\n",
      "[CV] C=1, gamma=1, kernel=linear .....................................\n",
      "[CV]  C=1, gamma=1, kernel=linear, score=0.29411764705882354, total=   0.0s\n",
      "[CV] C=1, gamma=1, kernel=linear .....................................\n",
      "[CV]  C=1, gamma=1, kernel=linear, score=0.3870967741935484, total=   0.0s\n",
      "[CV] C=1, gamma=0.1, kernel=rbf ......................................\n",
      "[CV]  C=1, gamma=0.1, kernel=rbf, score=0.3142857142857143, total=   0.0s\n",
      "[CV] C=1, gamma=0.1, kernel=rbf ......................................\n",
      "[CV]  C=1, gamma=0.1, kernel=rbf, score=0.23529411764705882, total=   0.0s\n",
      "[CV] C=1, gamma=0.1, kernel=rbf ......................................\n",
      "[CV]  C=1, gamma=0.1, kernel=rbf, score=0.3548387096774194, total=   0.0s\n",
      "[CV] C=1, gamma=0.1, kernel=linear ...................................\n",
      "[CV]  C=1, gamma=0.1, kernel=linear, score=0.34285714285714286, total=   0.0s\n",
      "[CV] C=1, gamma=0.1, kernel=linear ...................................\n",
      "[CV]  C=1, gamma=0.1, kernel=linear, score=0.29411764705882354, total=   0.0s\n",
      "[CV] C=1, gamma=0.1, kernel=linear ...................................\n",
      "[CV]  C=1, gamma=0.1, kernel=linear, score=0.3870967741935484, total=   0.0s\n",
      "[CV] C=1, gamma=0.01, kernel=rbf .....................................\n",
      "[CV]  C=1, gamma=0.01, kernel=rbf, score=0.22857142857142856, total=   0.0s\n",
      "[CV] C=1, gamma=0.01, kernel=rbf .....................................\n",
      "[CV]  C=1, gamma=0.01, kernel=rbf, score=0.20588235294117646, total=   0.0s\n",
      "[CV] C=1, gamma=0.01, kernel=rbf .....................................\n",
      "[CV]  C=1, gamma=0.01, kernel=rbf, score=0.22580645161290322, total=   0.0s\n",
      "[CV] C=1, gamma=0.01, kernel=linear ..................................\n",
      "[CV]  C=1, gamma=0.01, kernel=linear, score=0.34285714285714286, total=   0.0s\n",
      "[CV] C=1, gamma=0.01, kernel=linear ..................................\n",
      "[CV]  C=1, gamma=0.01, kernel=linear, score=0.29411764705882354, total=   0.0s\n",
      "[CV] C=1, gamma=0.01, kernel=linear ..................................\n",
      "[CV]  C=1, gamma=0.01, kernel=linear, score=0.3870967741935484, total=   0.0s\n",
      "[CV] C=1, gamma=0.001, kernel=rbf ....................................\n",
      "[CV]  C=1, gamma=0.001, kernel=rbf, score=0.22857142857142856, total=   0.0s\n",
      "[CV] C=1, gamma=0.001, kernel=rbf ....................................\n",
      "[CV]  C=1, gamma=0.001, kernel=rbf, score=0.20588235294117646, total=   0.0s\n",
      "[CV] C=1, gamma=0.001, kernel=rbf ....................................\n",
      "[CV]  C=1, gamma=0.001, kernel=rbf, score=0.22580645161290322, total=   0.0s\n",
      "[CV] C=1, gamma=0.001, kernel=linear .................................\n",
      "[CV]  C=1, gamma=0.001, kernel=linear, score=0.34285714285714286, total=   0.0s\n",
      "[CV] C=1, gamma=0.001, kernel=linear .................................\n",
      "[CV]  C=1, gamma=0.001, kernel=linear, score=0.29411764705882354, total=   0.0s\n",
      "[CV] C=1, gamma=0.001, kernel=linear .................................\n",
      "[CV]  C=1, gamma=0.001, kernel=linear, score=0.3870967741935484, total=   0.0s\n",
      "[CV] C=1, gamma=0.0001, kernel=rbf ...................................\n",
      "[CV]  C=1, gamma=0.0001, kernel=rbf, score=0.22857142857142856, total=   0.0s\n",
      "[CV] C=1, gamma=0.0001, kernel=rbf ...................................\n",
      "[CV]  C=1, gamma=0.0001, kernel=rbf, score=0.20588235294117646, total=   0.0s\n",
      "[CV] C=1, gamma=0.0001, kernel=rbf ...................................\n",
      "[CV]  C=1, gamma=0.0001, kernel=rbf, score=0.22580645161290322, total=   0.0s\n",
      "[CV] C=1, gamma=0.0001, kernel=linear ................................\n",
      "[CV]  C=1, gamma=0.0001, kernel=linear, score=0.34285714285714286, total=   0.0s\n",
      "[CV] C=1, gamma=0.0001, kernel=linear ................................\n",
      "[CV]  C=1, gamma=0.0001, kernel=linear, score=0.29411764705882354, total=   0.0s\n",
      "[CV] C=1, gamma=0.0001, kernel=linear ................................\n",
      "[CV]  C=1, gamma=0.0001, kernel=linear, score=0.3870967741935484, total=   0.0s\n",
      "[CV] C=10, gamma=1, kernel=rbf .......................................\n",
      "[CV]  C=10, gamma=1, kernel=rbf, score=0.5428571428571428, total=   0.0s\n",
      "[CV] C=10, gamma=1, kernel=rbf .......................................\n",
      "[CV]  C=10, gamma=1, kernel=rbf, score=0.5294117647058824, total=   0.0s\n",
      "[CV] C=10, gamma=1, kernel=rbf .......................................\n",
      "[CV]  C=10, gamma=1, kernel=rbf, score=0.45161290322580644, total=   0.0s\n",
      "[CV] C=10, gamma=1, kernel=linear ....................................\n",
      "[CV]  C=10, gamma=1, kernel=linear, score=0.45714285714285713, total=   0.0s\n",
      "[CV] C=10, gamma=1, kernel=linear ....................................\n",
      "[CV]  C=10, gamma=1, kernel=linear, score=0.2647058823529412, total=   0.0s\n",
      "[CV] C=10, gamma=1, kernel=linear ....................................\n",
      "[CV]  C=10, gamma=1, kernel=linear, score=0.45161290322580644, total=   0.0s\n",
      "[CV] C=10, gamma=0.1, kernel=rbf .....................................\n",
      "[CV]  C=10, gamma=0.1, kernel=rbf, score=0.5142857142857142, total=   0.0s\n",
      "[CV] C=10, gamma=0.1, kernel=rbf .....................................\n",
      "[CV]  C=10, gamma=0.1, kernel=rbf, score=0.38235294117647056, total=   0.0s\n",
      "[CV] C=10, gamma=0.1, kernel=rbf .....................................\n",
      "[CV]  C=10, gamma=0.1, kernel=rbf, score=0.3870967741935484, total=   0.0s\n",
      "[CV] C=10, gamma=0.1, kernel=linear ..................................\n",
      "[CV]  C=10, gamma=0.1, kernel=linear, score=0.45714285714285713, total=   0.0s\n",
      "[CV] C=10, gamma=0.1, kernel=linear ..................................\n",
      "[CV]  C=10, gamma=0.1, kernel=linear, score=0.2647058823529412, total=   0.0s\n",
      "[CV] C=10, gamma=0.1, kernel=linear ..................................\n",
      "[CV]  C=10, gamma=0.1, kernel=linear, score=0.45161290322580644, total=   0.0s\n",
      "[CV] C=10, gamma=0.01, kernel=rbf ....................................\n",
      "[CV]  C=10, gamma=0.01, kernel=rbf, score=0.37142857142857144, total=   0.0s\n",
      "[CV] C=10, gamma=0.01, kernel=rbf ....................................\n",
      "[CV]  C=10, gamma=0.01, kernel=rbf, score=0.20588235294117646, total=   0.0s\n",
      "[CV] C=10, gamma=0.01, kernel=rbf ....................................\n",
      "[CV]  C=10, gamma=0.01, kernel=rbf, score=0.3548387096774194, total=   0.0s\n",
      "[CV] C=10, gamma=0.01, kernel=linear .................................\n",
      "[CV]  C=10, gamma=0.01, kernel=linear, score=0.45714285714285713, total=   0.0s\n",
      "[CV] C=10, gamma=0.01, kernel=linear .................................\n",
      "[CV]  C=10, gamma=0.01, kernel=linear, score=0.2647058823529412, total=   0.0s\n",
      "[CV] C=10, gamma=0.01, kernel=linear .................................\n",
      "[CV]  C=10, gamma=0.01, kernel=linear, score=0.45161290322580644, total=   0.0s\n",
      "[CV] C=10, gamma=0.001, kernel=rbf ...................................\n",
      "[CV]  C=10, gamma=0.001, kernel=rbf, score=0.22857142857142856, total=   0.0s\n",
      "[CV] C=10, gamma=0.001, kernel=rbf ...................................\n",
      "[CV]  C=10, gamma=0.001, kernel=rbf, score=0.20588235294117646, total=   0.0s\n",
      "[CV] C=10, gamma=0.001, kernel=rbf ...................................\n",
      "[CV]  C=10, gamma=0.001, kernel=rbf, score=0.22580645161290322, total=   0.0s\n",
      "[CV] C=10, gamma=0.001, kernel=linear ................................\n",
      "[CV]  C=10, gamma=0.001, kernel=linear, score=0.45714285714285713, total=   0.0s\n",
      "[CV] C=10, gamma=0.001, kernel=linear ................................\n",
      "[CV]  C=10, gamma=0.001, kernel=linear, score=0.2647058823529412, total=   0.0s\n",
      "[CV] C=10, gamma=0.001, kernel=linear ................................\n",
      "[CV]  C=10, gamma=0.001, kernel=linear, score=0.45161290322580644, total=   0.0s\n",
      "[CV] C=10, gamma=0.0001, kernel=rbf ..................................\n",
      "[CV]  C=10, gamma=0.0001, kernel=rbf, score=0.22857142857142856, total=   0.0s\n",
      "[CV] C=10, gamma=0.0001, kernel=rbf ..................................\n",
      "[CV]  C=10, gamma=0.0001, kernel=rbf, score=0.20588235294117646, total=   0.0s\n",
      "[CV] C=10, gamma=0.0001, kernel=rbf ..................................\n",
      "[CV]  C=10, gamma=0.0001, kernel=rbf, score=0.22580645161290322, total=   0.0s\n",
      "[CV] C=10, gamma=0.0001, kernel=linear ...............................\n",
      "[CV]  C=10, gamma=0.0001, kernel=linear, score=0.45714285714285713, total=   0.0s\n",
      "[CV] C=10, gamma=0.0001, kernel=linear ...............................\n",
      "[CV]  C=10, gamma=0.0001, kernel=linear, score=0.2647058823529412, total=   0.0s\n",
      "[CV] C=10, gamma=0.0001, kernel=linear ...............................\n",
      "[CV]  C=10, gamma=0.0001, kernel=linear, score=0.45161290322580644, total=   0.0s\n",
      "[CV] C=100, gamma=1, kernel=rbf ......................................\n",
      "[CV]  C=100, gamma=1, kernel=rbf, score=0.45714285714285713, total=   0.0s\n",
      "[CV] C=100, gamma=1, kernel=rbf ......................................\n",
      "[CV]  C=100, gamma=1, kernel=rbf, score=0.5882352941176471, total=   0.0s\n",
      "[CV] C=100, gamma=1, kernel=rbf ......................................\n",
      "[CV]  C=100, gamma=1, kernel=rbf, score=0.5161290322580645, total=   0.0s\n",
      "[CV] C=100, gamma=1, kernel=linear ...................................\n",
      "[CV]  C=100, gamma=1, kernel=linear, score=0.5142857142857142, total=   0.0s\n",
      "[CV] C=100, gamma=1, kernel=linear ...................................\n",
      "[CV]  C=100, gamma=1, kernel=linear, score=0.5294117647058824, total=   0.0s\n",
      "[CV] C=100, gamma=1, kernel=linear ...................................\n"
     ]
    },
    {
     "name": "stdout",
     "output_type": "stream",
     "text": [
      "[CV]  C=100, gamma=1, kernel=linear, score=0.41935483870967744, total=   0.0s\n",
      "[CV] C=100, gamma=0.1, kernel=rbf ....................................\n",
      "[CV]  C=100, gamma=0.1, kernel=rbf, score=0.5428571428571428, total=   0.0s\n",
      "[CV] C=100, gamma=0.1, kernel=rbf ....................................\n",
      "[CV] .......... C=100, gamma=0.1, kernel=rbf, score=0.5, total=   0.0s\n",
      "[CV] C=100, gamma=0.1, kernel=rbf ....................................\n",
      "[CV]  C=100, gamma=0.1, kernel=rbf, score=0.4838709677419355, total=   0.0s\n",
      "[CV] C=100, gamma=0.1, kernel=linear .................................\n",
      "[CV]  C=100, gamma=0.1, kernel=linear, score=0.5142857142857142, total=   0.0s\n",
      "[CV] C=100, gamma=0.1, kernel=linear .................................\n",
      "[CV]  C=100, gamma=0.1, kernel=linear, score=0.5294117647058824, total=   0.0s\n",
      "[CV] C=100, gamma=0.1, kernel=linear .................................\n",
      "[CV]  C=100, gamma=0.1, kernel=linear, score=0.41935483870967744, total=   0.0s\n",
      "[CV] C=100, gamma=0.01, kernel=rbf ...................................\n",
      "[CV]  C=100, gamma=0.01, kernel=rbf, score=0.5142857142857142, total=   0.0s\n",
      "[CV] C=100, gamma=0.01, kernel=rbf ...................................\n",
      "[CV]  C=100, gamma=0.01, kernel=rbf, score=0.3235294117647059, total=   0.0s\n",
      "[CV] C=100, gamma=0.01, kernel=rbf ...................................\n",
      "[CV]  C=100, gamma=0.01, kernel=rbf, score=0.41935483870967744, total=   0.0s\n",
      "[CV] C=100, gamma=0.01, kernel=linear ................................\n",
      "[CV]  C=100, gamma=0.01, kernel=linear, score=0.5142857142857142, total=   0.0s\n",
      "[CV] C=100, gamma=0.01, kernel=linear ................................\n",
      "[CV]  C=100, gamma=0.01, kernel=linear, score=0.5294117647058824, total=   0.0s\n",
      "[CV] C=100, gamma=0.01, kernel=linear ................................\n",
      "[CV]  C=100, gamma=0.01, kernel=linear, score=0.41935483870967744, total=   0.0s\n",
      "[CV] C=100, gamma=0.001, kernel=rbf ..................................\n",
      "[CV]  C=100, gamma=0.001, kernel=rbf, score=0.37142857142857144, total=   0.0s\n",
      "[CV] C=100, gamma=0.001, kernel=rbf ..................................\n",
      "[CV]  C=100, gamma=0.001, kernel=rbf, score=0.20588235294117646, total=   0.0s\n",
      "[CV] C=100, gamma=0.001, kernel=rbf ..................................\n",
      "[CV]  C=100, gamma=0.001, kernel=rbf, score=0.3548387096774194, total=   0.0s\n",
      "[CV] C=100, gamma=0.001, kernel=linear ...............................\n",
      "[CV]  C=100, gamma=0.001, kernel=linear, score=0.5142857142857142, total=   0.0s\n",
      "[CV] C=100, gamma=0.001, kernel=linear ...............................\n",
      "[CV]  C=100, gamma=0.001, kernel=linear, score=0.5294117647058824, total=   0.0s\n",
      "[CV] C=100, gamma=0.001, kernel=linear ...............................\n",
      "[CV]  C=100, gamma=0.001, kernel=linear, score=0.41935483870967744, total=   0.0s\n",
      "[CV] C=100, gamma=0.0001, kernel=rbf .................................\n",
      "[CV]  C=100, gamma=0.0001, kernel=rbf, score=0.22857142857142856, total=   0.0s\n",
      "[CV] C=100, gamma=0.0001, kernel=rbf .................................\n",
      "[CV]  C=100, gamma=0.0001, kernel=rbf, score=0.20588235294117646, total=   0.0s\n",
      "[CV] C=100, gamma=0.0001, kernel=rbf .................................\n",
      "[CV]  C=100, gamma=0.0001, kernel=rbf, score=0.22580645161290322, total=   0.0s\n",
      "[CV] C=100, gamma=0.0001, kernel=linear ..............................\n",
      "[CV]  C=100, gamma=0.0001, kernel=linear, score=0.5142857142857142, total=   0.0s\n",
      "[CV] C=100, gamma=0.0001, kernel=linear ..............................\n",
      "[CV]  C=100, gamma=0.0001, kernel=linear, score=0.5294117647058824, total=   0.0s\n",
      "[CV] C=100, gamma=0.0001, kernel=linear ..............................\n",
      "[CV]  C=100, gamma=0.0001, kernel=linear, score=0.41935483870967744, total=   0.0s\n",
      "[CV] C=1000, gamma=1, kernel=rbf .....................................\n",
      "[CV]  C=1000, gamma=1, kernel=rbf, score=0.4857142857142857, total=   0.0s\n",
      "[CV] C=1000, gamma=1, kernel=rbf .....................................\n",
      "[CV]  C=1000, gamma=1, kernel=rbf, score=0.6176470588235294, total=   0.0s\n",
      "[CV] C=1000, gamma=1, kernel=rbf .....................................\n",
      "[CV]  C=1000, gamma=1, kernel=rbf, score=0.4838709677419355, total=   0.0s\n",
      "[CV] C=1000, gamma=1, kernel=linear ..................................\n",
      "[CV]  C=1000, gamma=1, kernel=linear, score=0.5142857142857142, total=   0.0s\n",
      "[CV] C=1000, gamma=1, kernel=linear ..................................\n",
      "[CV] ........ C=1000, gamma=1, kernel=linear, score=0.5, total=   0.0s\n",
      "[CV] C=1000, gamma=1, kernel=linear ..................................\n",
      "[CV]  C=1000, gamma=1, kernel=linear, score=0.3870967741935484, total=   0.0s\n",
      "[CV] C=1000, gamma=0.1, kernel=rbf ...................................\n",
      "[CV]  C=1000, gamma=0.1, kernel=rbf, score=0.4857142857142857, total=   0.0s\n",
      "[CV] C=1000, gamma=0.1, kernel=rbf ...................................\n",
      "[CV]  C=1000, gamma=0.1, kernel=rbf, score=0.6470588235294118, total=   0.0s\n",
      "[CV] C=1000, gamma=0.1, kernel=rbf ...................................\n",
      "[CV]  C=1000, gamma=0.1, kernel=rbf, score=0.3548387096774194, total=   0.0s\n",
      "[CV] C=1000, gamma=0.1, kernel=linear ................................\n",
      "[CV]  C=1000, gamma=0.1, kernel=linear, score=0.5142857142857142, total=   0.0s\n",
      "[CV] C=1000, gamma=0.1, kernel=linear ................................\n",
      "[CV] ...... C=1000, gamma=0.1, kernel=linear, score=0.5, total=   0.0s\n",
      "[CV] C=1000, gamma=0.1, kernel=linear ................................\n",
      "[CV]  C=1000, gamma=0.1, kernel=linear, score=0.3870967741935484, total=   0.0s\n",
      "[CV] C=1000, gamma=0.01, kernel=rbf ..................................\n",
      "[CV]  C=1000, gamma=0.01, kernel=rbf, score=0.42857142857142855, total=   0.0s\n",
      "[CV] C=1000, gamma=0.01, kernel=rbf ..................................\n",
      "[CV]  C=1000, gamma=0.01, kernel=rbf, score=0.4411764705882353, total=   0.0s\n",
      "[CV] C=1000, gamma=0.01, kernel=rbf ..................................\n",
      "[CV]  C=1000, gamma=0.01, kernel=rbf, score=0.5161290322580645, total=   0.0s\n",
      "[CV] C=1000, gamma=0.01, kernel=linear ...............................\n",
      "[CV]  C=1000, gamma=0.01, kernel=linear, score=0.5142857142857142, total=   0.0s\n",
      "[CV] C=1000, gamma=0.01, kernel=linear ...............................\n",
      "[CV] ..... C=1000, gamma=0.01, kernel=linear, score=0.5, total=   0.0s\n",
      "[CV] C=1000, gamma=0.01, kernel=linear ...............................\n",
      "[CV]  C=1000, gamma=0.01, kernel=linear, score=0.3870967741935484, total=   0.0s\n",
      "[CV] C=1000, gamma=0.001, kernel=rbf .................................\n",
      "[CV]  C=1000, gamma=0.001, kernel=rbf, score=0.5142857142857142, total=   0.0s\n",
      "[CV] C=1000, gamma=0.001, kernel=rbf .................................\n",
      "[CV]  C=1000, gamma=0.001, kernel=rbf, score=0.3235294117647059, total=   0.0s\n",
      "[CV] C=1000, gamma=0.001, kernel=rbf .................................\n",
      "[CV]  C=1000, gamma=0.001, kernel=rbf, score=0.41935483870967744, total=   0.0s\n",
      "[CV] C=1000, gamma=0.001, kernel=linear ..............................\n",
      "[CV]  C=1000, gamma=0.001, kernel=linear, score=0.5142857142857142, total=   0.0s\n",
      "[CV] C=1000, gamma=0.001, kernel=linear ..............................\n",
      "[CV] .... C=1000, gamma=0.001, kernel=linear, score=0.5, total=   0.0s\n",
      "[CV] C=1000, gamma=0.001, kernel=linear ..............................\n",
      "[CV]  C=1000, gamma=0.001, kernel=linear, score=0.3870967741935484, total=   0.0s\n",
      "[CV] C=1000, gamma=0.0001, kernel=rbf ................................\n",
      "[CV]  C=1000, gamma=0.0001, kernel=rbf, score=0.37142857142857144, total=   0.0s\n",
      "[CV] C=1000, gamma=0.0001, kernel=rbf ................................\n",
      "[CV]  C=1000, gamma=0.0001, kernel=rbf, score=0.20588235294117646, total=   0.0s\n",
      "[CV] C=1000, gamma=0.0001, kernel=rbf ................................\n",
      "[CV]  C=1000, gamma=0.0001, kernel=rbf, score=0.3548387096774194, total=   0.0s\n",
      "[CV] C=1000, gamma=0.0001, kernel=linear .............................\n",
      "[CV]  C=1000, gamma=0.0001, kernel=linear, score=0.5142857142857142, total=   0.0s\n",
      "[CV] C=1000, gamma=0.0001, kernel=linear .............................\n",
      "[CV] ... C=1000, gamma=0.0001, kernel=linear, score=0.5, total=   0.0s\n",
      "[CV] C=1000, gamma=0.0001, kernel=linear .............................\n",
      "[CV]  C=1000, gamma=0.0001, kernel=linear, score=0.3870967741935484, total=   0.0s\n"
     ]
    },
    {
     "name": "stderr",
     "output_type": "stream",
     "text": [
      "[Parallel(n_jobs=1)]: Done 150 out of 150 | elapsed:    0.6s finished\n",
      "C:\\Users\\DELL\\Anaconda3\\lib\\site-packages\\sklearn\\model_selection\\_search.py:841: DeprecationWarning: The default of the `iid` parameter will change from True to False in version 0.22 and will be removed in 0.24. This will change numeric results when test-set sizes are unequal.\n",
      "  DeprecationWarning)\n"
     ]
    },
    {
     "data": {
      "text/plain": [
       "GridSearchCV(cv='warn', error_score='raise-deprecating',\n",
       "       estimator=SVC(C=1.0, cache_size=200, class_weight=None, coef0=0.0,\n",
       "  decision_function_shape='ovr', degree=3, gamma='auto_deprecated',\n",
       "  kernel='rbf', max_iter=-1, probability=False, random_state=None,\n",
       "  shrinking=True, tol=0.001, verbose=False),\n",
       "       fit_params=None, iid='warn', n_jobs=None,\n",
       "       param_grid={'C': [0.1, 1, 10, 100, 1000], 'gamma': [1, 0.1, 0.01, 0.001, 0.0001], 'kernel': ['rbf', 'linear']},\n",
       "       pre_dispatch='2*n_jobs', refit=True, return_train_score='warn',\n",
       "       scoring=None, verbose=3)"
      ]
     },
     "execution_count": 50,
     "metadata": {},
     "output_type": "execute_result"
    }
   ],
   "source": [
    "# defining parameter range \n",
    "param_grid = {'C': [0.1, 1, 10, 100, 1000],  \n",
    "              'gamma': [1, 0.1, 0.01, 0.001, 0.0001], \n",
    "              'kernel': ['rbf', 'linear']}  \n",
    "\n",
    "grid = GridSearchCV(svm.SVC(), param_grid, refit = True, verbose = 3)\n",
    "\n",
    "grid.fit(X_train, y_train) "
   ]
  },
  {
   "cell_type": "code",
   "execution_count": 51,
   "metadata": {},
   "outputs": [
    {
     "name": "stdout",
     "output_type": "stream",
     "text": [
      "{'C': 1000, 'gamma': 1, 'kernel': 'rbf'}\n",
      "SVC(C=1000, cache_size=200, class_weight=None, coef0=0.0,\n",
      "  decision_function_shape='ovr', degree=3, gamma=1, kernel='rbf',\n",
      "  max_iter=-1, probability=False, random_state=None, shrinking=True,\n",
      "  tol=0.001, verbose=False)\n"
     ]
    }
   ],
   "source": [
    "# print best parameter after tuning \n",
    "print(grid.best_params_) \n",
    "  \n",
    "# print how our model looks after hyper-parameter tuning \n",
    "print(grid.best_estimator_) "
   ]
  },
  {
   "cell_type": "code",
   "execution_count": 52,
   "metadata": {},
   "outputs": [],
   "source": [
    "grid_predictions = grid.predict(X_test) "
   ]
  },
  {
   "cell_type": "code",
   "execution_count": 53,
   "metadata": {},
   "outputs": [
    {
     "name": "stdout",
     "output_type": "stream",
     "text": [
      "                              precision    recall  f1-score   support\n",
      "\n",
      "     Aggressive acceleration       0.57      0.67      0.62         6\n",
      "         Aggressive breaking       0.50      0.40      0.44         5\n",
      " Aggressive left lane change       0.50      0.50      0.50         2\n",
      "        Aggressive left turn       0.40      0.50      0.44         4\n",
      "Aggressive right lane change       0.50      0.33      0.40         3\n",
      "       Aggressive right turn       0.40      0.40      0.40         5\n",
      "\n",
      "                   micro avg       0.48      0.48      0.48        25\n",
      "                   macro avg       0.48      0.47      0.47        25\n",
      "                weighted avg       0.48      0.48      0.48        25\n",
      "\n"
     ]
    }
   ],
   "source": [
    "print(classification_report(y_test, grid_predictions)) "
   ]
  },
  {
   "cell_type": "code",
   "execution_count": 69,
   "metadata": {},
   "outputs": [
    {
     "name": "stdout",
     "output_type": "stream",
     "text": [
      "0.48\n"
     ]
    }
   ],
   "source": [
    "grid_confidence = grid.score(X_test, y_test)\n",
    "print(grid_confidence)"
   ]
  },
  {
   "cell_type": "markdown",
   "metadata": {},
   "source": [
    "## Random Forest"
   ]
  },
  {
   "cell_type": "code",
   "execution_count": 56,
   "metadata": {},
   "outputs": [],
   "source": [
    "rf = RandomForestRegressor(random_state = 42)"
   ]
  },
  {
   "cell_type": "code",
   "execution_count": 57,
   "metadata": {},
   "outputs": [
    {
     "name": "stdout",
     "output_type": "stream",
     "text": [
      "{'bootstrap': True, 'criterion': 'mse', 'max_depth': None, 'max_features': 'auto', 'max_leaf_nodes': None, 'min_impurity_decrease': 0.0, 'min_impurity_split': None, 'min_samples_leaf': 1, 'min_samples_split': 2, 'min_weight_fraction_leaf': 0.0, 'n_estimators': 'warn', 'n_jobs': None, 'oob_score': False, 'random_state': 42, 'verbose': 0, 'warm_start': False}\n"
     ]
    }
   ],
   "source": [
    "print(rf.get_params())"
   ]
  },
  {
   "cell_type": "code",
   "execution_count": 64,
   "metadata": {},
   "outputs": [
    {
     "name": "stdout",
     "output_type": "stream",
     "text": [
      "Fitting 3 folds for each of 500 candidates, totalling 1500 fits\n"
     ]
    },
    {
     "name": "stderr",
     "output_type": "stream",
     "text": [
      "[Parallel(n_jobs=-1)]: Using backend LokyBackend with 4 concurrent workers.\n",
      "[Parallel(n_jobs=-1)]: Done  42 tasks      | elapsed:   16.3s\n",
      "[Parallel(n_jobs=-1)]: Done 192 tasks      | elapsed:  1.1min\n",
      "[Parallel(n_jobs=-1)]: Done 442 tasks      | elapsed:  2.8min\n",
      "[Parallel(n_jobs=-1)]: Done 792 tasks      | elapsed:  5.0min\n",
      "[Parallel(n_jobs=-1)]: Done 1242 tasks      | elapsed:  7.6min\n",
      "[Parallel(n_jobs=-1)]: Done 1500 out of 1500 | elapsed:  9.0min finished\n",
      "C:\\Users\\DELL\\Anaconda3\\lib\\site-packages\\sklearn\\model_selection\\_search.py:841: DeprecationWarning: The default of the `iid` parameter will change from True to False in version 0.22 and will be removed in 0.24. This will change numeric results when test-set sizes are unequal.\n",
      "  DeprecationWarning)\n"
     ]
    }
   ],
   "source": [
    "forest = RandomForestClassifier(random_state = 1)\n",
    "\n",
    "n_estimators = [100, 300, 500, 800, 1200]\n",
    "max_depth = [5, 8, 15, 25, 30]\n",
    "min_samples_split = [2, 5, 10, 15, 100]\n",
    "min_samples_leaf = [1, 2, 5, 10] \n",
    "\n",
    "hyperF = dict(n_estimators = n_estimators, max_depth = max_depth,  \n",
    "              min_samples_split = min_samples_split, \n",
    "             min_samples_leaf = min_samples_leaf)\n",
    "\n",
    "gridF = GridSearchCV(forest, hyperF, cv = 3, verbose = 1, \n",
    "                      n_jobs = -1)\n",
    "\n",
    "bestF = gridF.fit(X_train, y_train)"
   ]
  },
  {
   "cell_type": "code",
   "execution_count": 65,
   "metadata": {},
   "outputs": [],
   "source": [
    "y_pred = bestF.predict(X_test)"
   ]
  },
  {
   "cell_type": "code",
   "execution_count": 67,
   "metadata": {},
   "outputs": [
    {
     "name": "stdout",
     "output_type": "stream",
     "text": [
      "                              precision    recall  f1-score   support\n",
      "\n",
      "     Aggressive acceleration       0.36      0.67      0.47         6\n",
      "         Aggressive breaking       0.00      0.00      0.00         5\n",
      " Aggressive left lane change       0.00      0.00      0.00         2\n",
      "        Aggressive left turn       1.00      0.50      0.67         4\n",
      "Aggressive right lane change       0.40      0.67      0.50         3\n",
      "       Aggressive right turn       0.60      0.60      0.60         5\n",
      "\n",
      "                   micro avg       0.44      0.44      0.44        25\n",
      "                   macro avg       0.39      0.41      0.37        25\n",
      "                weighted avg       0.42      0.44      0.40        25\n",
      "\n"
     ]
    },
    {
     "name": "stderr",
     "output_type": "stream",
     "text": [
      "C:\\Users\\DELL\\Anaconda3\\lib\\site-packages\\sklearn\\metrics\\classification.py:1143: UndefinedMetricWarning: Precision and F-score are ill-defined and being set to 0.0 in labels with no predicted samples.\n",
      "  'precision', 'predicted', average, warn_for)\n"
     ]
    }
   ],
   "source": [
    "print(classification_report(y_test, y_pred)) "
   ]
  },
  {
   "cell_type": "code",
   "execution_count": 70,
   "metadata": {},
   "outputs": [
    {
     "name": "stdout",
     "output_type": "stream",
     "text": [
      "0.44\n"
     ]
    }
   ],
   "source": [
    "bestF_confidence = bestF.score(X_test, y_test)\n",
    "print(bestF_confidence)"
   ]
  },
  {
   "cell_type": "code",
   "execution_count": null,
   "metadata": {},
   "outputs": [],
   "source": []
  }
 ],
 "metadata": {
  "kernelspec": {
   "display_name": "Python 3",
   "language": "python",
   "name": "python3"
  },
  "language_info": {
   "codemirror_mode": {
    "name": "ipython",
    "version": 3
   },
   "file_extension": ".py",
   "mimetype": "text/x-python",
   "name": "python",
   "nbconvert_exporter": "python",
   "pygments_lexer": "ipython3",
   "version": "3.6.7"
  }
 },
 "nbformat": 4,
 "nbformat_minor": 2
}
