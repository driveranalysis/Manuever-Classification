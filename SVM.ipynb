{
  "nbformat": 4,
  "nbformat_minor": 0,
  "metadata": {
    "colab": {
      "name": "SVM.ipynb",
      "provenance": [],
      "collapsed_sections": []
    },
    "kernelspec": {
      "name": "python3",
      "display_name": "Python 3"
    },
    "accelerator": "GPU"
  },
  "cells": [
    {
      "cell_type": "markdown",
      "metadata": {
        "id": "yP6x8d9M7ofH",
        "colab_type": "text"
      },
      "source": [
        "## SVM Implementation"
      ]
    },
    {
      "cell_type": "code",
      "metadata": {
        "id": "nM1hcqh20nLx",
        "colab_type": "code",
        "colab": {}
      },
      "source": [
        "import numpy as np\n",
        "from sklearn import preprocessing, neighbors, svm\n",
        "from sklearn.model_selection import train_test_split\n",
        "import pandas as pd"
      ],
      "execution_count": 0,
      "outputs": []
    },
    {
      "cell_type": "code",
      "metadata": {
        "id": "BKh5RPPh0vdE",
        "colab_type": "code",
        "colab": {}
      },
      "source": [
        "df = pd.read_csv('breast.txt')\n",
        "df.replace('?',-99999, inplace=True)\n",
        "df.drop(['id'], 1, inplace=True)"
      ],
      "execution_count": 0,
      "outputs": []
    },
    {
      "cell_type": "code",
      "metadata": {
        "id": "PtVzN-aC56K5",
        "colab_type": "code",
        "colab": {}
      },
      "source": [
        "X = np.array(df.drop(['class'], 1))\n",
        "y = np.array(df['class'])"
      ],
      "execution_count": 0,
      "outputs": []
    },
    {
      "cell_type": "code",
      "metadata": {
        "id": "3WelyhKB6CZ4",
        "colab_type": "code",
        "colab": {}
      },
      "source": [
        "X_train, X_test, y_train, y_test = train_test_split(X, y, test_size=0.2)"
      ],
      "execution_count": 0,
      "outputs": []
    },
    {
      "cell_type": "code",
      "metadata": {
        "id": "cbjLUDGP6HUw",
        "colab_type": "code",
        "colab": {}
      },
      "source": [
        "clf = svm.SVC()"
      ],
      "execution_count": 0,
      "outputs": []
    },
    {
      "cell_type": "code",
      "metadata": {
        "id": "hMlwQPnQ6WzA",
        "colab_type": "code",
        "colab": {
          "base_uri": "https://localhost:8080/",
          "height": 88
        },
        "outputId": "9aad0a91-9402-4b87-d1f9-f8cdada2b152"
      },
      "source": [
        "clf.fit(X_train, y_train)\n",
        "confidence = clf.score(X_test, y_test)\n",
        "print(confidence)"
      ],
      "execution_count": 12,
      "outputs": [
        {
          "output_type": "stream",
          "text": [
            "0.9642857142857143\n"
          ],
          "name": "stdout"
        },
        {
          "output_type": "stream",
          "text": [
            "/usr/local/lib/python3.6/dist-packages/sklearn/svm/base.py:193: FutureWarning: The default value of gamma will change from 'auto' to 'scale' in version 0.22 to account better for unscaled features. Set gamma explicitly to 'auto' or 'scale' to avoid this warning.\n",
            "  \"avoid this warning.\", FutureWarning)\n"
          ],
          "name": "stderr"
        }
      ]
    },
    {
      "cell_type": "code",
      "metadata": {
        "id": "7LRikhbG6aHI",
        "colab_type": "code",
        "colab": {
          "base_uri": "https://localhost:8080/",
          "height": 34
        },
        "outputId": "8be097a2-1761-4fa9-886d-9ef55408efa7"
      },
      "source": [
        "example_measures = np.array([[4,2,1,1,1,2,3,2,1]])\n",
        "example_measures = example_measures.reshape(len(example_measures), -1)\n",
        "prediction = clf.predict(example_measures)\n",
        "print(prediction)"
      ],
      "execution_count": 13,
      "outputs": [
        {
          "output_type": "stream",
          "text": [
            "[2]\n"
          ],
          "name": "stdout"
        }
      ]
    }
  ]
}