{
  "nbformat": 4,
  "nbformat_minor": 0,
  "metadata": {
    "kernelspec": {
      "display_name": "Python 3",
      "language": "python",
      "name": "python3"
    },
    "language_info": {
      "codemirror_mode": {
        "name": "ipython",
        "version": 3
      },
      "file_extension": ".py",
      "mimetype": "text/x-python",
      "name": "python",
      "nbconvert_exporter": "python",
      "pygments_lexer": "ipython3",
      "version": "3.7.0"
    },
    "colab": {
      "name": "Driver Scoring",
      "provenance": [],
      "collapsed_sections": []
    }
  },
  "cells": [
    {
      "cell_type": "code",
      "metadata": {
        "id": "UFOdz-he3lKu",
        "colab_type": "code",
        "colab": {}
      },
      "source": [
        "import math\n",
        "\n",
        "class Score:\n",
        "\n",
        "    def __init__(self, lcr, lcl, tr, tl, b, a, d, urban = True):\n",
        "        self.lcr = lcr\n",
        "        self.lcl = lcl\n",
        "        self.tr = tr\n",
        "        self.tl = tl\n",
        "        self.a = a\n",
        "        self.b = b\n",
        "        self.d = d\n",
        "        self.lc_u = d*0.3 #d is duration of trip in minutes\n",
        "        self.t_u = d*0.6\n",
        "        self.a_u = d*0.4\n",
        "        self.b_u = d*0.4\n",
        "        self.a_ecou = d*0.1\n",
        "        self.b_ecou = d*0.1\n",
        "\n",
        "        if urban == True:   \n",
        "            self.lc_w = 0.25\n",
        "            self.t_w = 0.25\n",
        "            self.a_w = 0.25\n",
        "            self.b_w = 0.25\n",
        "            risk_factor = self.t_w*(max(0,self.tr+self.tl-self.t_u)) + self.lc_w*(max(0,self.lcr+self.lcl-self.lc_u)) + self.a_w*(max(0,self.a-self.a_u)) + self.b_w*(max(0,self.b-self.b_u))\n",
        "            self.risk = 1 + 9/(math.e**(risk_factor))\n",
        "            self.a_ecow = 0.5\n",
        "            self.b_ecow = 0.5\n",
        "            self.eco = 1+ 9/(math.e**(max(0,self.a_ecow*a) + max(0,self.b_ecow*b)))\n",
        "        else:\n",
        "            lc_w = 0.1\n",
        "            t_w = 0.2\n",
        "            a_w = 0.3\n",
        "            b_w = 0.4\n",
        "            self.risk = 1/(1-math.e**(self.t_w*(self.tr+self.tl-self.t_u) + self.lc_w(self.lcr+self.lcl-self.lc_u) + self.a_w(self.a-self.a_u) + self.b_w(self.b-self.b_u)))\n",
        "            a_ecow = 0.5\n",
        "            b_ecow = 0.5\n",
        "            self.eco = 1/(1-math.e**(a_ecow*a + b_ecow*b))\n",
        "            \n",
        "        \n",
        "\n",
        "    def get_eco(self):\n",
        "        return self.eco\n",
        "\n",
        "    def get_risk(self):\n",
        "        return self.risk\n",
        "\n",
        "\n",
        "\n",
        "  \n",
        "\n",
        "    def kalman(self,means = [0,0,0]):\n",
        "        \"\"\"\n",
        "        Applies Kalman Filter to axis data. Use when sensors are already re-oriented.\n",
        "        mean = [0,0,0] for gyro\n",
        "        means = [0,0,9.7] for accel\n",
        "        *returns Sensor object\n",
        "        \"\"\"\n",
        "        output = []\n",
        "        temp = Sensor()\n",
        "        kfx = KalmanFilter(transition_matrices = [1],\n",
        "                            observation_matrices = [1],\n",
        "                            initial_state_mean = means[0],\n",
        "                            initial_state_covariance = 1.1,\n",
        "                            observation_covariance=0.8,\n",
        "                            transition_covariance=.07)\n",
        "        temp.x,_ = kfx.filter(self.x)\n",
        "\n",
        "        kfy = KalmanFilter(transition_matrices = [1],\n",
        "                    observation_matrices = [1],\n",
        "                    initial_state_mean = means[1],\n",
        "                    initial_state_covariance = 1.1,\n",
        "                    observation_covariance=0.8,\n",
        "                    transition_covariance=.07)\n",
        "        temp.y,_ = kfy.filter(self.y)\n",
        "        kfz = KalmanFilter(transition_matrices = [1],\n",
        "            observation_matrices = [1],\n",
        "            initial_state_mean = means[2],\n",
        "            initial_state_covariance = 1.1,\n",
        "            observation_covariance=0.8,\n",
        "            transition_covariance=.07)\n",
        "\n",
        "        temp.z,_ = kfz.filter(self.z)\n",
        "        temp.t = self.t\n",
        "        temp.time = self.time\n",
        "        return temp\n",
        "        \n"
      ],
      "execution_count": null,
      "outputs": []
    },
    {
      "cell_type": "code",
      "metadata": {
        "id": "VW669EWjMwqQ",
        "colab_type": "code",
        "colab": {
          "base_uri": "https://localhost:8080/",
          "height": 34
        },
        "outputId": "471ba6a3-60b2-44fd-c7cf-44d4bff6a337"
      },
      "source": [
        "score1 = Score(8,4,9,7,8,8,10)\n",
        "score1.get_risk()\n",
        "\n"
      ],
      "execution_count": null,
      "outputs": [
        {
          "output_type": "execute_result",
          "data": {
            "text/plain": [
              "1.0105379165871207"
            ]
          },
          "metadata": {
            "tags": []
          },
          "execution_count": 2
        }
      ]
    },
    {
      "cell_type": "code",
      "metadata": {
        "id": "EVtSdQTBZrK2",
        "colab_type": "code",
        "colab": {
          "base_uri": "https://localhost:8080/",
          "height": 34
        },
        "outputId": "ca0beba3-47bd-44b8-858a-9526736d7fef"
      },
      "source": [
        "score2 = Score(0,0,0,0,0,0,10)\n",
        "score2.get_risk()\n",
        "\n"
      ],
      "execution_count": null,
      "outputs": [
        {
          "output_type": "execute_result",
          "data": {
            "text/plain": [
              "10.0"
            ]
          },
          "metadata": {
            "tags": []
          },
          "execution_count": 3
        }
      ]
    },
    {
      "cell_type": "code",
      "metadata": {
        "id": "14XsZmDdOd24",
        "colab_type": "code",
        "colab": {
          "base_uri": "https://localhost:8080/",
          "height": 34
        },
        "outputId": "de318636-1ae7-405c-8fad-923e9c452956"
      },
      "source": [
        "score3 = Score(3,1,2,3,2,2,10)\n",
        "score3.get_risk()"
      ],
      "execution_count": null,
      "outputs": [
        {
          "output_type": "execute_result",
          "data": {
            "text/plain": [
              "8.009207047642644"
            ]
          },
          "metadata": {
            "tags": []
          },
          "execution_count": 4
        }
      ]
    },
    {
      "cell_type": "code",
      "metadata": {
        "id": "rw7S3bvUOtHB",
        "colab_type": "code",
        "colab": {
          "base_uri": "https://localhost:8080/",
          "height": 34
        },
        "outputId": "83bf919e-c1b4-4d16-f9f1-f439dfdf0262"
      },
      "source": [
        "score4 = Score(2,1,2,3,2,0,10)\n",
        "score4.get_risk()"
      ],
      "execution_count": null,
      "outputs": [
        {
          "output_type": "execute_result",
          "data": {
            "text/plain": [
              "10.0"
            ]
          },
          "metadata": {
            "tags": []
          },
          "execution_count": 5
        }
      ]
    },
    {
      "cell_type": "code",
      "metadata": {
        "id": "QRDma0QjPRaG",
        "colab_type": "code",
        "colab": {
          "base_uri": "https://localhost:8080/",
          "height": 34
        },
        "outputId": "7a57d65e-05f3-4fba-e6c4-f064a707f5ca"
      },
      "source": [
        "score5 = Score(3,1,2,3,2,2,7)\n",
        "score5.get_risk()"
      ],
      "execution_count": null,
      "outputs": [
        {
          "output_type": "execute_result",
          "data": {
            "text/plain": [
              "5.582407785467943"
            ]
          },
          "metadata": {
            "tags": []
          },
          "execution_count": 6
        }
      ]
    },
    {
      "cell_type": "code",
      "metadata": {
        "id": "7zbJv49ZPX_5",
        "colab_type": "code",
        "colab": {
          "base_uri": "https://localhost:8080/",
          "height": 34
        },
        "outputId": "18042cff-0c0b-46d3-e98a-c0ae47569a60"
      },
      "source": [
        "score5 = Score(3,1,2,3,2,2,15)\n",
        "score5.get_risk()"
      ],
      "execution_count": null,
      "outputs": [
        {
          "output_type": "execute_result",
          "data": {
            "text/plain": [
              "10.0"
            ]
          },
          "metadata": {
            "tags": []
          },
          "execution_count": 7
        }
      ]
    },
    {
      "cell_type": "code",
      "metadata": {
        "id": "pWJ5BxhjPmiL",
        "colab_type": "code",
        "colab": {}
      },
      "source": [
        ""
      ],
      "execution_count": null,
      "outputs": []
    }
  ]
}